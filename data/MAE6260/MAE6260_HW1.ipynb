{
  "nbformat": 4,
  "nbformat_minor": 0,
  "metadata": {
    "colab": {
      "name": "MAE6260 HW1.ipynb",
      "provenance": [],
      "collapsed_sections": [],
      "authorship_tag": "ABX9TyPwhTVPogBJFoJ0GMewxWlK",
      "include_colab_link": true
    },
    "kernelspec": {
      "name": "python3",
      "display_name": "Python 3"
    },
    "language_info": {
      "name": "python"
    }
  },
  "cells": [
    {
      "cell_type": "markdown",
      "metadata": {
        "id": "view-in-github",
        "colab_type": "text"
      },
      "source": [
        "<a href=\"https://colab.research.google.com/github/hanfengzhai/hanfengzhai.github.io/blob/master/data/MAE6260/MAE6260_HW1.ipynb\" target=\"_parent\"><img src=\"https://colab.research.google.com/assets/colab-badge.svg\" alt=\"Open In Colab\"/></a>"
      ]
    },
    {
      "cell_type": "code",
      "execution_count": 1,
      "metadata": {
        "id": "AnHLt5AZdHkl"
      },
      "outputs": [],
      "source": [
        "import numpy as np"
      ]
    },
    {
      "cell_type": "markdown",
      "source": [
        "## Problem 1"
      ],
      "metadata": {
        "id": "di9iSUNysb78"
      }
    },
    {
      "cell_type": "markdown",
      "source": [
        "We first use ```wget``` obtain the out file from online and extract the energy values using ```awk``` command."
      ],
      "metadata": {
        "id": "LT4NoiWGOkY5"
      }
    },
    {
      "cell_type": "code",
      "source": [
        "!wget https://hanfengzhai.net/data/MAE6260/Si.scf.10.out https://hanfengzhai.net/data/MAE6260/Si.scf.20.out https://hanfengzhai.net/data/MAE6260/Si.scf.30.out https://hanfengzhai.net/data/MAE6260/Si.scf.40.out https://hanfengzhai.net/data/MAE6260/Si.scf.50.out https://hanfengzhai.net/data/MAE6260/Si.scf.60.out https://hanfengzhai.net/data/MAE6260/Si.scf.70.out https://hanfengzhai.net/data/MAE6260/Si.scf.80.out https://hanfengzhai.net/data/MAE6260/Si.scf.90.out https://hanfengzhai.net/data/MAE6260/Si.scf.100.out https://hanfengzhai.net/data/MAE6260/Si.scf.110.out https://hanfengzhai.net/data/MAE6260/Si.scf.120.out https://hanfengzhai.net/data/MAE6260/Si.scf.130.out https://hanfengzhai.net/data/MAE6260/Si.scf.140.out"
      ],
      "metadata": {
        "colab": {
          "base_uri": "https://localhost:8080/"
        },
        "id": "-OR1zk1VdN9F",
        "outputId": "a8c9048e-2d4f-43da-cd9d-3c494478faba"
      },
      "execution_count": 2,
      "outputs": [
        {
          "output_type": "stream",
          "name": "stdout",
          "text": [
            "--2022-03-03 19:59:54--  https://hanfengzhai.net/data/MAE6260/Si.scf.10.out\n",
            "Resolving hanfengzhai.net (hanfengzhai.net)... 185.199.111.153\n",
            "Connecting to hanfengzhai.net (hanfengzhai.net)|185.199.111.153|:443... connected.\n",
            "HTTP request sent, awaiting response... 200 OK\n",
            "Length: 13642 (13K) [application/octet-stream]\n",
            "Saving to: ‘Si.scf.10.out’\n",
            "\n",
            "Si.scf.10.out       100%[===================>]  13.32K  --.-KB/s    in 0s      \n",
            "\n",
            "2022-03-03 19:59:54 (33.1 MB/s) - ‘Si.scf.10.out’ saved [13642/13642]\n",
            "\n",
            "--2022-03-03 19:59:54--  https://hanfengzhai.net/data/MAE6260/Si.scf.20.out\n",
            "Reusing existing connection to hanfengzhai.net:443.\n",
            "HTTP request sent, awaiting response... 200 OK\n",
            "Length: 13957 (14K) [application/octet-stream]\n",
            "Saving to: ‘Si.scf.20.out’\n",
            "\n",
            "Si.scf.20.out       100%[===================>]  13.63K  --.-KB/s    in 0.001s  \n",
            "\n",
            "2022-03-03 19:59:55 (10.4 MB/s) - ‘Si.scf.20.out’ saved [13957/13957]\n",
            "\n",
            "--2022-03-03 19:59:55--  https://hanfengzhai.net/data/MAE6260/Si.scf.30.out\n",
            "Reusing existing connection to hanfengzhai.net:443.\n",
            "HTTP request sent, awaiting response... 200 OK\n",
            "Length: 13957 (14K) [application/octet-stream]\n",
            "Saving to: ‘Si.scf.30.out’\n",
            "\n",
            "Si.scf.30.out       100%[===================>]  13.63K  --.-KB/s    in 0.001s  \n",
            "\n",
            "2022-03-03 19:59:55 (16.5 MB/s) - ‘Si.scf.30.out’ saved [13957/13957]\n",
            "\n",
            "--2022-03-03 19:59:55--  https://hanfengzhai.net/data/MAE6260/Si.scf.40.out\n",
            "Reusing existing connection to hanfengzhai.net:443.\n",
            "HTTP request sent, awaiting response... 200 OK\n",
            "Length: 13957 (14K) [application/octet-stream]\n",
            "Saving to: ‘Si.scf.40.out’\n",
            "\n",
            "Si.scf.40.out       100%[===================>]  13.63K  --.-KB/s    in 0.001s  \n",
            "\n",
            "2022-03-03 19:59:55 (11.5 MB/s) - ‘Si.scf.40.out’ saved [13957/13957]\n",
            "\n",
            "--2022-03-03 19:59:55--  https://hanfengzhai.net/data/MAE6260/Si.scf.50.out\n",
            "Reusing existing connection to hanfengzhai.net:443.\n",
            "HTTP request sent, awaiting response... 200 OK\n",
            "Length: 13957 (14K) [application/octet-stream]\n",
            "Saving to: ‘Si.scf.50.out’\n",
            "\n",
            "Si.scf.50.out       100%[===================>]  13.63K  --.-KB/s    in 0.001s  \n",
            "\n",
            "2022-03-03 19:59:55 (13.0 MB/s) - ‘Si.scf.50.out’ saved [13957/13957]\n",
            "\n",
            "--2022-03-03 19:59:55--  https://hanfengzhai.net/data/MAE6260/Si.scf.60.out\n",
            "Reusing existing connection to hanfengzhai.net:443.\n",
            "HTTP request sent, awaiting response... 200 OK\n",
            "Length: 13957 (14K) [application/octet-stream]\n",
            "Saving to: ‘Si.scf.60.out’\n",
            "\n",
            "Si.scf.60.out       100%[===================>]  13.63K  --.-KB/s    in 0s      \n",
            "\n",
            "2022-03-03 19:59:55 (150 MB/s) - ‘Si.scf.60.out’ saved [13957/13957]\n",
            "\n",
            "--2022-03-03 19:59:55--  https://hanfengzhai.net/data/MAE6260/Si.scf.70.out\n",
            "Reusing existing connection to hanfengzhai.net:443.\n",
            "HTTP request sent, awaiting response... 200 OK\n",
            "Length: 13957 (14K) [application/octet-stream]\n",
            "Saving to: ‘Si.scf.70.out’\n",
            "\n",
            "Si.scf.70.out       100%[===================>]  13.63K  --.-KB/s    in 0.001s  \n",
            "\n",
            "2022-03-03 19:59:55 (11.8 MB/s) - ‘Si.scf.70.out’ saved [13957/13957]\n",
            "\n",
            "--2022-03-03 19:59:55--  https://hanfengzhai.net/data/MAE6260/Si.scf.80.out\n",
            "Reusing existing connection to hanfengzhai.net:443.\n",
            "HTTP request sent, awaiting response... 200 OK\n",
            "Length: 13957 (14K) [application/octet-stream]\n",
            "Saving to: ‘Si.scf.80.out’\n",
            "\n",
            "Si.scf.80.out       100%[===================>]  13.63K  --.-KB/s    in 0.001s  \n",
            "\n",
            "2022-03-03 19:59:55 (11.1 MB/s) - ‘Si.scf.80.out’ saved [13957/13957]\n",
            "\n",
            "--2022-03-03 19:59:55--  https://hanfengzhai.net/data/MAE6260/Si.scf.90.out\n",
            "Reusing existing connection to hanfengzhai.net:443.\n",
            "HTTP request sent, awaiting response... 200 OK\n",
            "Length: 7006 (6.8K) [application/octet-stream]\n",
            "Saving to: ‘Si.scf.90.out’\n",
            "\n",
            "Si.scf.90.out       100%[===================>]   6.84K  --.-KB/s    in 0s      \n",
            "\n",
            "2022-03-03 19:59:55 (131 MB/s) - ‘Si.scf.90.out’ saved [7006/7006]\n",
            "\n",
            "--2022-03-03 19:59:55--  https://hanfengzhai.net/data/MAE6260/Si.scf.100.out\n",
            "Reusing existing connection to hanfengzhai.net:443.\n",
            "HTTP request sent, awaiting response... 200 OK\n",
            "Length: 13958 (14K) [application/octet-stream]\n",
            "Saving to: ‘Si.scf.100.out’\n",
            "\n",
            "Si.scf.100.out      100%[===================>]  13.63K  --.-KB/s    in 0.001s  \n",
            "\n",
            "2022-03-03 19:59:55 (13.5 MB/s) - ‘Si.scf.100.out’ saved [13958/13958]\n",
            "\n",
            "--2022-03-03 19:59:55--  https://hanfengzhai.net/data/MAE6260/Si.scf.110.out\n",
            "Reusing existing connection to hanfengzhai.net:443.\n",
            "HTTP request sent, awaiting response... 200 OK\n",
            "Length: 13958 (14K) [application/octet-stream]\n",
            "Saving to: ‘Si.scf.110.out’\n",
            "\n",
            "Si.scf.110.out      100%[===================>]  13.63K  --.-KB/s    in 0.001s  \n",
            "\n",
            "2022-03-03 19:59:55 (12.4 MB/s) - ‘Si.scf.110.out’ saved [13958/13958]\n",
            "\n",
            "--2022-03-03 19:59:55--  https://hanfengzhai.net/data/MAE6260/Si.scf.120.out\n",
            "Reusing existing connection to hanfengzhai.net:443.\n",
            "HTTP request sent, awaiting response... 200 OK\n",
            "Length: 13958 (14K) [application/octet-stream]\n",
            "Saving to: ‘Si.scf.120.out’\n",
            "\n",
            "Si.scf.120.out      100%[===================>]  13.63K  --.-KB/s    in 0.001s  \n",
            "\n",
            "2022-03-03 19:59:55 (12.2 MB/s) - ‘Si.scf.120.out’ saved [13958/13958]\n",
            "\n",
            "--2022-03-03 19:59:55--  https://hanfengzhai.net/data/MAE6260/Si.scf.130.out\n",
            "Reusing existing connection to hanfengzhai.net:443.\n",
            "HTTP request sent, awaiting response... 200 OK\n",
            "Length: 13958 (14K) [application/octet-stream]\n",
            "Saving to: ‘Si.scf.130.out’\n",
            "\n",
            "Si.scf.130.out      100%[===================>]  13.63K  --.-KB/s    in 0.001s  \n",
            "\n",
            "2022-03-03 19:59:55 (21.3 MB/s) - ‘Si.scf.130.out’ saved [13958/13958]\n",
            "\n",
            "--2022-03-03 19:59:55--  https://hanfengzhai.net/data/MAE6260/Si.scf.140.out\n",
            "Reusing existing connection to hanfengzhai.net:443.\n",
            "HTTP request sent, awaiting response... 200 OK\n",
            "Length: 13958 (14K) [application/octet-stream]\n",
            "Saving to: ‘Si.scf.140.out’\n",
            "\n",
            "Si.scf.140.out      100%[===================>]  13.63K  --.-KB/s    in 0.001s  \n",
            "\n",
            "2022-03-03 19:59:55 (17.5 MB/s) - ‘Si.scf.140.out’ saved [13958/13958]\n",
            "\n",
            "FINISHED --2022-03-03 19:59:55--\n",
            "Total wall clock time: 1.3s\n",
            "Downloaded: 14 files, 184K in 0.01s (15.4 MB/s)\n"
          ]
        }
      ]
    },
    {
      "cell_type": "code",
      "source": [
        "!awk '/!    total energy              =/' Si.scf.10.out Si.scf.20.out Si.scf.30.out Si.scf.40.out Si.scf.50.out Si.scf.60.out Si.scf.70.out Si.scf.80.out Si.scf.90.out Si.scf.100.out Si.scf.110.out Si.scf.120.out Si.scf.130.out Si.scf.140.out"
      ],
      "metadata": {
        "colab": {
          "base_uri": "https://localhost:8080/"
        },
        "id": "nKD_ZbP5dlht",
        "outputId": "1c79802a-2a9e-4795-9d1f-cc3a8cf61ca1"
      },
      "execution_count": 3,
      "outputs": [
        {
          "output_type": "stream",
          "name": "stdout",
          "text": [
            "!    total energy              =     -15.69752745 Ry\n",
            "!    total energy              =     -15.74125920 Ry\n",
            "!    total energy              =     -15.74181786 Ry\n",
            "!    total energy              =     -15.74188372 Ry\n",
            "!    total energy              =     -15.74189371 Ry\n",
            "!    total energy              =     -15.74189940 Ry\n",
            "!    total energy              =     -15.74190330 Ry\n",
            "!    total energy              =     -15.74190580 Ry\n",
            "!    total energy              =     -15.74190822 Ry\n",
            "!    total energy              =     -15.74190855 Ry\n",
            "!    total energy              =     -15.74190899 Ry\n",
            "!    total energy              =     -15.74190939 Ry\n",
            "!    total energy              =     -15.74190956 Ry\n"
          ]
        }
      ]
    },
    {
      "cell_type": "code",
      "source": [
        "Energy = np.array([-15.69752745, -15.74125920, -15.74181786, -15.74188372, -15.74189371, -15.74189940, -15.74190330, -15.74190580, -15.74190725, -15.74190822, -15.74190855, -15.74190899, -15.74190939, -15.74190956])\n",
        "Cutoff = np.array([10, 20, 30, 40, 50, 60, 70, 80, 90, 100, 110, 120, 130, 140])"
      ],
      "metadata": {
        "id": "RH9MEHYHdq0B"
      },
      "execution_count": 4,
      "outputs": []
    },
    {
      "cell_type": "code",
      "source": [
        "import matplotlib.pyplot as plt\n",
        "plt.plot(Cutoff, Energy, 'ro')\n",
        "plt.plot(Cutoff, Energy, '-.')\n",
        "plt.xlabel(\"Wave function cutoff [Ry]\")\n",
        "plt.ylabel(\"Total energy [Ry]\")\n",
        "plt.savefig(\"fig1.png\",pad_inches=0.1,bbox_inches='tight')"
      ],
      "metadata": {
        "colab": {
          "base_uri": "https://localhost:8080/",
          "height": 279
        },
        "id": "cncYHNHdfACR",
        "outputId": "50e570cb-f7e8-4d1e-85f3-c2333f798866"
      },
      "execution_count": 36,
      "outputs": [
        {
          "output_type": "display_data",
          "data": {
            "image/png": "[encoded data removed]",
            "text/plain": [
              "<Figure size 432x288 with 1 Axes>"
            ]
          },
          "metadata": {
            "needs_background": "light"
          }
        }
      ]
    },
    {
      "cell_type": "markdown",
      "source": [
        "##Problem 2"
      ],
      "metadata": {
        "id": "l3d6VcktsZ8q"
      }
    },
    {
      "cell_type": "code",
      "source": [
        "!wget https://hanfengzhai.net/data/MAE6260/Si.scf.2.out https://hanfengzhai.net/data/MAE6260/Si.scf.3.out https://hanfengzhai.net/data/MAE6260/Si.scf.4.out https://hanfengzhai.net/data/MAE6260/Si.scf.5.out https://hanfengzhai.net/data/MAE6260/Si.scf.6.out https://hanfengzhai.net/data/MAE6260/Si.scf.7.out https://hanfengzhai.net/data/MAE6260/Si.scf.8.out https://hanfengzhai.net/data/MAE6260/Si.scf.9.out "
      ],
      "metadata": {
        "colab": {
          "base_uri": "https://localhost:8080/"
        },
        "id": "a9RkRZyFfKj1",
        "outputId": "bb5ee96e-fd3e-4726-a483-54fbded15ceb"
      },
      "execution_count": 37,
      "outputs": [
        {
          "output_type": "stream",
          "name": "stdout",
          "text": [
            "--2022-03-03 20:02:34--  https://hanfengzhai.net/data/MAE6260/Si.scf.2.out\n",
            "Resolving hanfengzhai.net (hanfengzhai.net)... 185.199.109.153\n",
            "Connecting to hanfengzhai.net (hanfengzhai.net)|185.199.109.153|:443... connected.\n",
            "HTTP request sent, awaiting response... 200 OK\n",
            "Length: 9302 (9.1K) [application/octet-stream]\n",
            "Saving to: ‘Si.scf.2.out.1’\n",
            "\n",
            "Si.scf.2.out.1      100%[===================>]   9.08K  --.-KB/s    in 0s      \n",
            "\n",
            "2022-03-03 20:02:34 (87.6 MB/s) - ‘Si.scf.2.out.1’ saved [9302/9302]\n",
            "\n",
            "--2022-03-03 20:02:34--  https://hanfengzhai.net/data/MAE6260/Si.scf.3.out\n",
            "Reusing existing connection to hanfengzhai.net:443.\n",
            "HTTP request sent, awaiting response... 200 OK\n",
            "Length: 10018 (9.8K) [application/octet-stream]\n",
            "Saving to: ‘Si.scf.3.out.1’\n",
            "\n",
            "Si.scf.3.out.1      100%[===================>]   9.78K  --.-KB/s    in 0s      \n",
            "\n",
            "2022-03-03 20:02:35 (33.7 MB/s) - ‘Si.scf.3.out.1’ saved [10018/10018]\n",
            "\n",
            "--2022-03-03 20:02:35--  https://hanfengzhai.net/data/MAE6260/Si.scf.4.out\n",
            "Reusing existing connection to hanfengzhai.net:443.\n",
            "HTTP request sent, awaiting response... 200 OK\n",
            "Length: 10734 (10K) [application/octet-stream]\n",
            "Saving to: ‘Si.scf.4.out.1’\n",
            "\n",
            "Si.scf.4.out.1      100%[===================>]  10.48K  --.-KB/s    in 0s      \n",
            "\n",
            "2022-03-03 20:02:35 (27.5 MB/s) - ‘Si.scf.4.out.1’ saved [10734/10734]\n",
            "\n",
            "--2022-03-03 20:02:35--  https://hanfengzhai.net/data/MAE6260/Si.scf.5.out\n",
            "Reusing existing connection to hanfengzhai.net:443.\n",
            "HTTP request sent, awaiting response... 200 OK\n",
            "Length: 12345 (12K) [application/octet-stream]\n",
            "Saving to: ‘Si.scf.5.out.1’\n",
            "\n",
            "Si.scf.5.out.1      100%[===================>]  12.06K  --.-KB/s    in 0s      \n",
            "\n",
            "2022-03-03 20:02:35 (38.4 MB/s) - ‘Si.scf.5.out.1’ saved [12345/12345]\n",
            "\n",
            "--2022-03-03 20:02:35--  https://hanfengzhai.net/data/MAE6260/Si.scf.6.out\n",
            "Reusing existing connection to hanfengzhai.net:443.\n",
            "HTTP request sent, awaiting response... 200 OK\n",
            "Length: 13956 (14K) [application/octet-stream]\n",
            "Saving to: ‘Si.scf.6.out.1’\n",
            "\n",
            "Si.scf.6.out.1      100%[===================>]  13.63K  --.-KB/s    in 0.001s  \n",
            "\n",
            "2022-03-03 20:02:35 (13.2 MB/s) - ‘Si.scf.6.out.1’ saved [13956/13956]\n",
            "\n",
            "--2022-03-03 20:02:35--  https://hanfengzhai.net/data/MAE6260/Si.scf.7.out\n",
            "Reusing existing connection to hanfengzhai.net:443.\n",
            "HTTP request sent, awaiting response... 200 OK\n",
            "Length: 16820 (16K) [application/octet-stream]\n",
            "Saving to: ‘Si.scf.7.out.1’\n",
            "\n",
            "Si.scf.7.out.1      100%[===================>]  16.43K  --.-KB/s    in 0.001s  \n",
            "\n",
            "2022-03-03 20:02:35 (13.7 MB/s) - ‘Si.scf.7.out.1’ saved [16820/16820]\n",
            "\n",
            "--2022-03-03 20:02:35--  https://hanfengzhai.net/data/MAE6260/Si.scf.8.out\n",
            "Reusing existing connection to hanfengzhai.net:443.\n",
            "HTTP request sent, awaiting response... 200 OK\n",
            "Length: 19684 (19K) [application/octet-stream]\n",
            "Saving to: ‘Si.scf.8.out.1’\n",
            "\n",
            "Si.scf.8.out.1      100%[===================>]  19.22K  --.-KB/s    in 0.001s  \n",
            "\n",
            "2022-03-03 20:02:35 (17.1 MB/s) - ‘Si.scf.8.out.1’ saved [19684/19684]\n",
            "\n",
            "--2022-03-03 20:02:35--  https://hanfengzhai.net/data/MAE6260/Si.scf.9.out\n",
            "Reusing existing connection to hanfengzhai.net:443.\n",
            "HTTP request sent, awaiting response... 200 OK\n",
            "Length: 24159 (24K) [application/octet-stream]\n",
            "Saving to: ‘Si.scf.9.out.1’\n",
            "\n",
            "Si.scf.9.out.1      100%[===================>]  23.59K  --.-KB/s    in 0.002s  \n",
            "\n",
            "2022-03-03 20:02:35 (11.9 MB/s) - ‘Si.scf.9.out.1’ saved [24159/24159]\n",
            "\n",
            "FINISHED --2022-03-03 20:02:35--\n",
            "Total wall clock time: 0.4s\n",
            "Downloaded: 8 files, 114K in 0.006s (17.8 MB/s)\n"
          ]
        }
      ]
    },
    {
      "cell_type": "code",
      "source": [
        "!awk '/!    total energy              =/' Si.scf.2.out Si.scf.3.out Si.scf.4.out Si.scf.5.out Si.scf.6.out Si.scf.7.out Si.scf.8.out Si.scf.9.out"
      ],
      "metadata": {
        "colab": {
          "base_uri": "https://localhost:8080/"
        },
        "id": "JuTWTsjXqL-o",
        "outputId": "7b975506-04fa-4af5-a01f-f5652fcde239"
      },
      "execution_count": 38,
      "outputs": [
        {
          "output_type": "stream",
          "name": "stdout",
          "text": [
            "!    total energy              =     -15.73037890 Ry\n",
            "!    total energy              =     -15.74063412 Ry\n",
            "!    total energy              =     -15.74171917 Ry\n",
            "!    total energy              =     -15.74187324 Ry\n",
            "!    total energy              =     -15.74189940 Ry\n",
            "!    total energy              =     -15.74190433 Ry\n",
            "!    total energy              =     -15.74190537 Ry\n",
            "!    total energy              =     -15.74190551 Ry\n"
          ]
        }
      ]
    },
    {
      "cell_type": "code",
      "source": [
        "Energy_grid = np.array([-15.73037890, -15.74063412, -15.74171917, -15.74187324, -15.74189940, -15.74190433, -15.74190537, -15.74190551])\n",
        "K_point = np.array([2, 3, 4, 5, 6, 7, 8, 9])"
      ],
      "metadata": {
        "id": "6cHMK9jlqS-L"
      },
      "execution_count": 39,
      "outputs": []
    },
    {
      "cell_type": "code",
      "source": [
        "plt.plot(K_point, Energy_grid, '-.')\n",
        "plt.plot(K_point, Energy_grid, 'ro')\n",
        "plt.xlabel(\"K point number\")\n",
        "plt.ylabel(\"Total energy [Ry]\")\n",
        "plt.savefig(\"fig2.png\",pad_inches=0.1,bbox_inches='tight')"
      ],
      "metadata": {
        "colab": {
          "base_uri": "https://localhost:8080/",
          "height": 280
        },
        "id": "bQ2LGTlMquVe",
        "outputId": "c347dc1b-f75b-4a4a-c1c7-2b913b21ed44"
      },
      "execution_count": 40,
      "outputs": [
        {
          "output_type": "display_data",
          "data": {
            "image/png": "[encoded data removed]",
            "text/plain": [
              "<Figure size 432x288 with 1 Axes>"
            ]
          },
          "metadata": {
            "needs_background": "light"
          }
        }
      ]
    },
    {
      "cell_type": "markdown",
      "source": [
        "##Problem 3"
      ],
      "metadata": {
        "id": "eAk72QB2sW4d"
      }
    },
    {
      "cell_type": "markdown",
      "source": [
        "We first compute the convergence of Si8 regarding to different wave energy cutoff."
      ],
      "metadata": {
        "id": "B8y5ge5ysRi-"
      }
    },
    {
      "cell_type": "code",
      "source": [
        "!awk '/!    total energy              =/' Si8.ecut.20.out Si8.ecut.30.out Si8.ecut.40.out Si8.ecut.50.out Si8.ecut.60.out Si8.ecut.70.out Si8.ecut.80.out Si8.ecut.90.out"
      ],
      "metadata": {
        "colab": {
          "base_uri": "https://localhost:8080/"
        },
        "id": "Y9EY_2eQsaQC",
        "outputId": "fce8bedc-3f99-4dca-c64e-33ecb5bbfd1f"
      },
      "execution_count": 41,
      "outputs": [
        {
          "output_type": "stream",
          "name": "stdout",
          "text": [
            "awk: cannot open Si8.ecut.20.out (No such file or directory)\n"
          ]
        }
      ]
    },
    {
      "cell_type": "code",
      "source": [
        "energy_Si8_ecut = np.array([-62.96488356, -62.96716659, -62.96742582, -62.96747120, -62.96749199, -62.96750861, -62.96751998, -62.96752497])\n",
        "Si8_cutoff = np.array([20,30,40,50,60,70,80,90])"
      ],
      "metadata": {
        "id": "enLbnG_AB28o"
      },
      "execution_count": 42,
      "outputs": []
    },
    {
      "cell_type": "code",
      "source": [
        "plt.plot(Si8_cutoff, energy_Si8_ecut, '-.')\n",
        "plt.plot(Si8_cutoff, energy_Si8_ecut, 'ro')\n",
        "plt.xlabel(\"Wave energy cutoff\")\n",
        "plt.ylabel(\"Total energy [Ry]\")\n",
        "plt.savefig(\"fig3.png\",pad_inches=0.1,bbox_inches='tight')"
      ],
      "metadata": {
        "colab": {
          "base_uri": "https://localhost:8080/",
          "height": 290
        },
        "id": "IBRwyL5ACMXr",
        "outputId": "e9223691-de79-40d9-db0e-86e97f6bf433"
      },
      "execution_count": 43,
      "outputs": [
        {
          "output_type": "display_data",
          "data": {
            "image/png": "[encoded data removed]",
            "text/plain": [
              "<Figure size 432x288 with 1 Axes>"
            ]
          },
          "metadata": {
            "needs_background": "light"
          }
        }
      ]
    },
    {
      "cell_type": "markdown",
      "source": [
        "We then compute the convergence of Si8 regarding to different k point convergence."
      ],
      "metadata": {
        "id": "gMb5Ak1rCf0w"
      }
    },
    {
      "cell_type": "code",
      "source": [
        "!awk '/!    total energy              =/' Si8.kpoint.2.out Si8.kpoint.3.out Si8.kpoint.4.out Si8.kpoint.5.out Si8.kpoint.6.out Si8.kpoint.7.out Si8.kpoint.8.out Si8.kpoint.9.out"
      ],
      "metadata": {
        "colab": {
          "base_uri": "https://localhost:8080/"
        },
        "id": "wOEYTpS9Cffa",
        "outputId": "449e372e-3bba-4b00-cbcd-07d4e9431ba6"
      },
      "execution_count": 44,
      "outputs": [
        {
          "output_type": "stream",
          "name": "stdout",
          "text": [
            "awk: cannot open Si8.kpoint.2.out (No such file or directory)\n"
          ]
        }
      ]
    },
    {
      "cell_type": "code",
      "source": [
        "energy_Si8_kpoint = np.array([-62.92149626,-62.96251579,-62.96685537,-62.96747120,-62.96757604,-62.96759623,-62.96760023,-62.96760110])\n",
        "Si8_kpoint = np.array([2,3,4,5,6,7,8,9])"
      ],
      "metadata": {
        "id": "CbwNqWQVCw1W"
      },
      "execution_count": 45,
      "outputs": []
    },
    {
      "cell_type": "code",
      "source": [
        "plt.plot(Si8_kpoint, energy_Si8_kpoint, '-.')\n",
        "plt.plot(Si8_kpoint, energy_Si8_kpoint, 'ro')\n",
        "plt.xlabel(\"K point number\")\n",
        "plt.ylabel(\"Total energy [Ry]\")\n",
        "plt.savefig(\"fig4.png\",pad_inches=0.1,bbox_inches='tight')"
      ],
      "metadata": {
        "colab": {
          "base_uri": "https://localhost:8080/",
          "height": 280
        },
        "id": "H4_xuVj0DQ0w",
        "outputId": "5b437fa4-ac4a-4293-81bc-5209455e2676"
      },
      "execution_count": 46,
      "outputs": [
        {
          "output_type": "display_data",
          "data": {
            "image/png": "[encoded data removed]",
            "text/plain": [
              "<Figure size 432x288 with 1 Axes>"
            ]
          },
          "metadata": {
            "needs_background": "light"
          }
        }
      ]
    },
    {
      "cell_type": "markdown",
      "source": [
        "###Compute the energy (Lab 2)\n",
        "Considering the equation:\n",
        "\n",
        "* Vacancy energy $→$ The computed vacancy energy of $\\rm Si_8$ is:\n",
        "\n",
        "$$E_f = \\left|E_v - \\frac{7}{8} E_p \\right|\\\\ = \\left|-54.87435988 - \\frac{7}{8} (-62.96752804) \\right| = 0.2222 \\rm\\ Ry$$\n",
        "\n",
        "* Interstitial energy $→$ The computed vacancy energy of $\\rm Si_8$ is:\n",
        "\n",
        "$$E_f =\\left|-70.62160668 - \\frac{9}{8} (-62.96752804) \\right| = 0.2169\\ \\rm Ry$$ "
      ],
      "metadata": {
        "id": "GamZkZCvETfM"
      }
    },
    {
      "cell_type": "markdown",
      "source": [
        "According to the provided reference, the formation energy ranges from 3.5 to 5.5 eV, which can be converted to 0.2572 to 0.4042, indicating our results from $\\rm Si_8$ is a little bit smaller yet in the acceptable range."
      ],
      "metadata": {
        "id": "x48rD08oDca7"
      }
    },
    {
      "cell_type": "markdown",
      "source": [
        "**Now we compute the relavent properties of Si64 supercell.**\n",
        "\n"
      ],
      "metadata": {
        "id": "RZkijEzcsVLf"
      }
    },
    {
      "cell_type": "code",
      "source": [
        "!awk '/!/' Si64.ecut.20.out Si64.ecut.30.out Si64.ecut.40.out Si64.ecut.50.out Si64.ecut.60.out Si64.ecut.70.out Si64.ecut.80.out Si64.ecut.90.out"
      ],
      "metadata": {
        "colab": {
          "base_uri": "https://localhost:8080/"
        },
        "id": "xZ61q4IuJcHu",
        "outputId": "83f1df71-fd46-4e1a-8849-c834200af8ea"
      },
      "execution_count": 47,
      "outputs": [
        {
          "output_type": "stream",
          "name": "stdout",
          "text": [
            "awk: cannot open Si64.ecut.20.out (No such file or directory)\n"
          ]
        }
      ]
    },
    {
      "cell_type": "code",
      "source": [
        "Energy_Si64_cutoff = np.array([-503.70224925, -503.72016247,-503.72223791,-503.72260269,-503.72276859,-503.72293634,-503.72297257,-503.72303737])\n",
        "Ener_Si64_cutoff = np.array([20,30,40,50,60,70,80,90])"
      ],
      "metadata": {
        "id": "5WhbOwhOx4Xz"
      },
      "execution_count": 48,
      "outputs": []
    },
    {
      "cell_type": "code",
      "source": [
        "plt.plot(Ener_Si64_cutoff, Energy_Si64_cutoff, '-.')\n",
        "plt.plot(Ener_Si64_cutoff, Energy_Si64_cutoff, 'ro')\n",
        "plt.xlabel(\"Wave function cutoff\")\n",
        "plt.ylabel(\"Total energy [Ry]\")\n",
        "plt.savefig(\"fig5.png\",pad_inches=0.1,bbox_inches='tight')"
      ],
      "metadata": {
        "colab": {
          "base_uri": "https://localhost:8080/",
          "height": 290
        },
        "id": "YM9qh1Y7lP4x",
        "outputId": "134b88e2-9b1e-4034-ed35-9a817a9e0b3d"
      },
      "execution_count": 49,
      "outputs": [
        {
          "output_type": "display_data",
          "data": {
            "image/png": "[encoded data removed]",
            "text/plain": [
              "<Figure size 432x288 with 1 Axes>"
            ]
          },
          "metadata": {
            "needs_background": "light"
          }
        }
      ]
    },
    {
      "cell_type": "markdown",
      "source": [
        "Now we test the convergence of different k point values"
      ],
      "metadata": {
        "id": "eAbGkfnXStrH"
      }
    },
    {
      "cell_type": "code",
      "source": [
        "!awk '/!/' Si64.kpoint.2.out Si64.kpoint.3.out Si64.kpoint.4.out Si64.kpoint.5.out Si64.kpoint.6.out Si64.kpoint.7.out Si64.kpoint.8.out Si64.kpoint.9.out"
      ],
      "metadata": {
        "colab": {
          "base_uri": "https://localhost:8080/"
        },
        "id": "toxxOkXpSxMY",
        "outputId": "8c191411-0823-4631-b47c-7170fb47b96d"
      },
      "execution_count": 50,
      "outputs": [
        {
          "output_type": "stream",
          "name": "stdout",
          "text": [
            "awk: cannot open Si64.kpoint.2.out (No such file or directory)\n"
          ]
        }
      ]
    },
    {
      "cell_type": "code",
      "source": [
        "Energy_Si64_kpoint = np.array([-503.71420167,-503.72260269,-503.72252687,-503.72250849,-503.72249571,-503.72250048,-503.72249601,-503.72250049])\n",
        "kpoint_number = np.array([2,3,4,5,6,7,8,9])"
      ],
      "metadata": {
        "id": "HeBcGBlQDciw"
      },
      "execution_count": 51,
      "outputs": []
    },
    {
      "cell_type": "code",
      "source": [
        "plt.plot(kpoint_number, Energy_Si64_kpoint, '-.')\n",
        "plt.plot(kpoint_number, Energy_Si64_kpoint, 'ro')\n",
        "plt.xlabel(\"K point number\")\n",
        "plt.ylabel(\"Total energy [Ry]\")\n",
        "plt.savefig(\"fig6.png\",pad_inches=0.1,bbox_inches='tight')"
      ],
      "metadata": {
        "colab": {
          "base_uri": "https://localhost:8080/",
          "height": 290
        },
        "id": "95OC-uVAlQcH",
        "outputId": "13cbe012-4843-43fa-c066-a1d3572765b4"
      },
      "execution_count": 52,
      "outputs": [
        {
          "output_type": "display_data",
          "data": {
            "image/png": "[encoded data removed]",
            "text/plain": [
              "<Figure size 432x288 with 1 Axes>"
            ]
          },
          "metadata": {
            "needs_background": "light"
          }
        }
      ]
    },
    {
      "cell_type": "markdown",
      "source": [
        "It can be observed that at around k point $\\approx 7$ the total energy converged."
      ],
      "metadata": {
        "id": "IJUKNKE7sIKO"
      }
    },
    {
      "cell_type": "markdown",
      "source": [
        "###Compute the vacancy energy\n",
        "Considering the equation:\n",
        "\n",
        "* Vacancy energy: $$E_f = \\left|E_v - \\frac{63}{64} E_p \\right|\\\\ = \\left|-495.59729887  - \\frac{63}{64} (-503.72275424) \\right|= 0.2548 \\rm\\ Ry$$\n",
        "\n",
        "* Interstitial energy: $$E_f =\\left|-510.30499457 - \\frac{65}{64} (-503.72275424) \\right| = 1.2884\\ Ry$$ "
      ],
      "metadata": {
        "id": "unNCmZLWm9kt"
      }
    },
    {
      "cell_type": "markdown",
      "source": [
        "It can be deduced that the vacancy energy is 0.2548 Ry, which lies within the acceptable range. However, the interstitial energy (1.2884 Ry) is higher than the literature value."
      ],
      "metadata": {
        "id": "jAUDx5IoPav3"
      }
    },
    {
      "cell_type": "markdown",
      "source": [
        "##Problem 4"
      ],
      "metadata": {
        "id": "0Eyt6JHjoT2F"
      }
    },
    {
      "cell_type": "code",
      "source": [
        "!wget https://hanfengzhai.net/data/MAE6260/Al.ecut.20.out https://hanfengzhai.net/data/MAE6260/Al.ecut.30.out https://hanfengzhai.net/data/MAE6260/Al.ecut.40.out https://hanfengzhai.net/data/MAE6260/Al.ecut.50.out https://hanfengzhai.net/data/MAE6260/Al.ecut.60.out https://hanfengzhai.net/data/MAE6260/Al.ecut.70.out https://hanfengzhai.net/data/MAE6260/Al.ecut.80.out https://hanfengzhai.net/data/MAE6260/Al.ecut.90.out https://hanfengzhai.net/data/MAE6260/Al.ecut.100.out"
      ],
      "metadata": {
        "colab": {
          "base_uri": "https://localhost:8080/"
        },
        "id": "wKsYz7Odh5Ii",
        "outputId": "c875e0be-41ec-42dc-b2e4-5d630de5f6cb"
      },
      "execution_count": 53,
      "outputs": [
        {
          "output_type": "stream",
          "name": "stdout",
          "text": [
            "--2022-03-03 20:02:37--  https://hanfengzhai.net/data/MAE6260/Al.ecut.20.out\n",
            "Resolving hanfengzhai.net (hanfengzhai.net)... 185.199.109.153\n",
            "Connecting to hanfengzhai.net (hanfengzhai.net)|185.199.109.153|:443... connected.\n",
            "HTTP request sent, awaiting response... 200 OK\n",
            "Length: 11012 (11K) [application/octet-stream]\n",
            "Saving to: ‘Al.ecut.20.out.1’\n",
            "\n",
            "\rAl.ecut.20.out.1      0%[                    ]       0  --.-KB/s               \rAl.ecut.20.out.1    100%[===================>]  10.75K  --.-KB/s    in 0s      \n",
            "\n",
            "2022-03-03 20:02:37 (96.5 MB/s) - ‘Al.ecut.20.out.1’ saved [11012/11012]\n",
            "\n",
            "--2022-03-03 20:02:37--  https://hanfengzhai.net/data/MAE6260/Al.ecut.30.out\n",
            "Reusing existing connection to hanfengzhai.net:443.\n",
            "HTTP request sent, awaiting response... 200 OK\n",
            "Length: 11012 (11K) [application/octet-stream]\n",
            "Saving to: ‘Al.ecut.30.out.1’\n",
            "\n",
            "\rAl.ecut.30.out.1      0%[                    ]       0  --.-KB/s               \rAl.ecut.30.out.1    100%[===================>]  10.75K  --.-KB/s    in 0s      \n",
            "\n",
            "2022-03-03 20:02:37 (74.2 MB/s) - ‘Al.ecut.30.out.1’ saved [11012/11012]\n",
            "\n",
            "--2022-03-03 20:02:37--  https://hanfengzhai.net/data/MAE6260/Al.ecut.40.out\n",
            "Reusing existing connection to hanfengzhai.net:443.\n",
            "HTTP request sent, awaiting response... 200 OK\n",
            "Length: 11012 (11K) [application/octet-stream]\n",
            "Saving to: ‘Al.ecut.40.out.1’\n",
            "\n",
            "\rAl.ecut.40.out.1      0%[                    ]       0  --.-KB/s               \rAl.ecut.40.out.1    100%[===================>]  10.75K  --.-KB/s    in 0s      \n",
            "\n",
            "2022-03-03 20:02:37 (46.5 MB/s) - ‘Al.ecut.40.out.1’ saved [11012/11012]\n",
            "\n",
            "--2022-03-03 20:02:37--  https://hanfengzhai.net/data/MAE6260/Al.ecut.50.out\n",
            "Reusing existing connection to hanfengzhai.net:443.\n",
            "HTTP request sent, awaiting response... 200 OK\n",
            "Length: 11012 (11K) [application/octet-stream]\n",
            "Saving to: ‘Al.ecut.50.out.1’\n",
            "\n",
            "\rAl.ecut.50.out.1      0%[                    ]       0  --.-KB/s               \rAl.ecut.50.out.1    100%[===================>]  10.75K  --.-KB/s    in 0s      \n",
            "\n",
            "2022-03-03 20:02:37 (49.0 MB/s) - ‘Al.ecut.50.out.1’ saved [11012/11012]\n",
            "\n",
            "--2022-03-03 20:02:37--  https://hanfengzhai.net/data/MAE6260/Al.ecut.60.out\n",
            "Reusing existing connection to hanfengzhai.net:443.\n",
            "HTTP request sent, awaiting response... 200 OK\n",
            "Length: 11012 (11K) [application/octet-stream]\n",
            "Saving to: ‘Al.ecut.60.out.1’\n",
            "\n",
            "\rAl.ecut.60.out.1      0%[                    ]       0  --.-KB/s               \rAl.ecut.60.out.1    100%[===================>]  10.75K  --.-KB/s    in 0s      \n",
            "\n",
            "2022-03-03 20:02:37 (25.1 MB/s) - ‘Al.ecut.60.out.1’ saved [11012/11012]\n",
            "\n",
            "--2022-03-03 20:02:37--  https://hanfengzhai.net/data/MAE6260/Al.ecut.70.out\n",
            "Reusing existing connection to hanfengzhai.net:443.\n",
            "HTTP request sent, awaiting response... 200 OK\n",
            "Length: 11012 (11K) [application/octet-stream]\n",
            "Saving to: ‘Al.ecut.70.out.1’\n",
            "\n",
            "\rAl.ecut.70.out.1      0%[                    ]       0  --.-KB/s               \rAl.ecut.70.out.1    100%[===================>]  10.75K  --.-KB/s    in 0s      \n",
            "\n",
            "2022-03-03 20:02:37 (89.2 MB/s) - ‘Al.ecut.70.out.1’ saved [11012/11012]\n",
            "\n",
            "--2022-03-03 20:02:37--  https://hanfengzhai.net/data/MAE6260/Al.ecut.80.out\n",
            "Reusing existing connection to hanfengzhai.net:443.\n",
            "HTTP request sent, awaiting response... 200 OK\n",
            "Length: 11012 (11K) [application/octet-stream]\n",
            "Saving to: ‘Al.ecut.80.out.1’\n",
            "\n",
            "\rAl.ecut.80.out.1      0%[                    ]       0  --.-KB/s               \rAl.ecut.80.out.1    100%[===================>]  10.75K  --.-KB/s    in 0s      \n",
            "\n",
            "2022-03-03 20:02:37 (43.2 MB/s) - ‘Al.ecut.80.out.1’ saved [11012/11012]\n",
            "\n",
            "--2022-03-03 20:02:37--  https://hanfengzhai.net/data/MAE6260/Al.ecut.90.out\n",
            "Reusing existing connection to hanfengzhai.net:443.\n",
            "HTTP request sent, awaiting response... 200 OK\n",
            "Length: 11012 (11K) [application/octet-stream]\n",
            "Saving to: ‘Al.ecut.90.out.1’\n",
            "\n",
            "\rAl.ecut.90.out.1      0%[                    ]       0  --.-KB/s               \rAl.ecut.90.out.1    100%[===================>]  10.75K  --.-KB/s    in 0s      \n",
            "\n",
            "2022-03-03 20:02:37 (47.2 MB/s) - ‘Al.ecut.90.out.1’ saved [11012/11012]\n",
            "\n",
            "--2022-03-03 20:02:37--  https://hanfengzhai.net/data/MAE6260/Al.ecut.100.out\n",
            "Reusing existing connection to hanfengzhai.net:443.\n",
            "HTTP request sent, awaiting response... 200 OK\n",
            "Length: 11012 (11K) [application/octet-stream]\n",
            "Saving to: ‘Al.ecut.100.out.1’\n",
            "\n",
            "\rAl.ecut.100.out.1     0%[                    ]       0  --.-KB/s               \rAl.ecut.100.out.1   100%[===================>]  10.75K  --.-KB/s    in 0s      \n",
            "\n",
            "2022-03-03 20:02:37 (47.8 MB/s) - ‘Al.ecut.100.out.1’ saved [11012/11012]\n",
            "\n",
            "FINISHED --2022-03-03 20:02:37--\n",
            "Total wall clock time: 0.2s\n",
            "Downloaded: 9 files, 97K in 0.002s (49.4 MB/s)\n"
          ]
        }
      ]
    },
    {
      "cell_type": "code",
      "source": [
        "!awk '/!    total energy              =/' Al.ecut.20.out Al.ecut.30.out Al.ecut.40.out Al.ecut.50.out Al.ecut.60.out Al.ecut.70.out Al.ecut.80.out Al.ecut.90.out Al.ecut.100.out"
      ],
      "metadata": {
        "colab": {
          "base_uri": "https://localhost:8080/"
        },
        "id": "zJE4-S5eoU9Z",
        "outputId": "fde4680a-41dd-479f-fa01-4b506aa25deb"
      },
      "execution_count": 54,
      "outputs": [
        {
          "output_type": "stream",
          "name": "stdout",
          "text": [
            "!    total energy              =     -38.24654082 Ry\n",
            "!    total energy              =     -38.24955479 Ry\n",
            "!    total energy              =     -38.24962749 Ry\n",
            "!    total energy              =     -38.24967516 Ry\n",
            "!    total energy              =     -38.24968448 Ry\n",
            "!    total energy              =     -38.24969302 Ry\n",
            "!    total energy              =     -38.24969892 Ry\n",
            "!    total energy              =     -38.24970657 Ry\n",
            "!    total energy              =     -38.24971195 Ry\n"
          ]
        }
      ]
    },
    {
      "cell_type": "code",
      "source": [
        "Energy_Al_cutoff = np.array([-38.24654082, -38.24955479, -38.24962749, -38.24967516, -38.24968448, -38.24969302, -38.24969892, -38.24970657, -38.24971195])\n",
        "Al_cutoff = np.array([20,30,40,50,60,70,80,90,100])"
      ],
      "metadata": {
        "id": "iwQ0Rvzi3cyE"
      },
      "execution_count": 55,
      "outputs": []
    },
    {
      "cell_type": "code",
      "source": [
        "plt.plot(Al_cutoff, Energy_Al_cutoff, '-.')\n",
        "plt.plot(Al_cutoff, Energy_Al_cutoff, 'ro')\n",
        "plt.xlabel(\"K point number\")\n",
        "plt.ylabel(\"Total energy [Ry]\")\n",
        "plt.savefig(\"fig7.png\",pad_inches=0.1,bbox_inches='tight')"
      ],
      "metadata": {
        "colab": {
          "base_uri": "https://localhost:8080/",
          "height": 290
        },
        "id": "BLkoKNP-82tx",
        "outputId": "ad08be7e-8eca-4660-a938-244d4d82eb05"
      },
      "execution_count": 56,
      "outputs": [
        {
          "output_type": "display_data",
          "data": {
            "image/png": "[encoded data removed]",
            "text/plain": [
              "<Figure size 432x288 with 1 Axes>"
            ]
          },
          "metadata": {
            "needs_background": "light"
          }
        }
      ]
    },
    {
      "cell_type": "code",
      "source": [
        "!wget https://hanfengzhai.net/data/MAE6260/Al.kpoint.2.out https://hanfengzhai.net/data/MAE6260/Al.kpoint.3.out https://hanfengzhai.net/data/MAE6260/Al.kpoint.4.out https://hanfengzhai.net/data/MAE6260/Al.kpoint.5.out https://hanfengzhai.net/data/MAE6260/Al.kpoint.6.out https://hanfengzhai.net/data/MAE6260/Al.kpoint.7.out https://hanfengzhai.net/data/MAE6260/Al.kpoint.8.out https://hanfengzhai.net/data/MAE6260/Al.kpoint.9.out https://hanfengzhai.net/data/MAE6260/Al.kpoint.10.out https://hanfengzhai.net/data/MAE6260/Al.kpoint.11.out https://hanfengzhai.net/data/MAE6260/Al.kpoint.12.out https://hanfengzhai.net/data/MAE6260/Al.kpoint.13.out https://hanfengzhai.net/data/MAE6260/Al.kpoint.14.out https://hanfengzhai.net/data/MAE6260/Al.kpoint.15.out"
      ],
      "metadata": {
        "colab": {
          "base_uri": "https://localhost:8080/"
        },
        "id": "5rYAYwe_et2l",
        "outputId": "1a4ff384-26fd-4fb3-989e-370d50d1b5ca"
      },
      "execution_count": 57,
      "outputs": [
        {
          "output_type": "stream",
          "name": "stdout",
          "text": [
            "--2022-03-03 20:02:38--  https://hanfengzhai.net/data/MAE6260/Al.kpoint.2.out\n",
            "Resolving hanfengzhai.net (hanfengzhai.net)... 185.199.109.153\n",
            "Connecting to hanfengzhai.net (hanfengzhai.net)|185.199.109.153|:443... connected.\n",
            "HTTP request sent, awaiting response... 200 OK\n",
            "Length: 10342 (10K) [application/octet-stream]\n",
            "Saving to: ‘Al.kpoint.2.out.1’\n",
            "\n",
            "\rAl.kpoint.2.out.1     0%[                    ]       0  --.-KB/s               \rAl.kpoint.2.out.1   100%[===================>]  10.10K  --.-KB/s    in 0s      \n",
            "\n",
            "2022-03-03 20:02:38 (99.2 MB/s) - ‘Al.kpoint.2.out.1’ saved [10342/10342]\n",
            "\n",
            "--2022-03-03 20:02:38--  https://hanfengzhai.net/data/MAE6260/Al.kpoint.3.out\n",
            "Reusing existing connection to hanfengzhai.net:443.\n",
            "HTTP request sent, awaiting response... 200 OK\n",
            "Length: 9909 (9.7K) [application/octet-stream]\n",
            "Saving to: ‘Al.kpoint.3.out.1’\n",
            "\n",
            "\rAl.kpoint.3.out.1     0%[                    ]       0  --.-KB/s               \rAl.kpoint.3.out.1   100%[===================>]   9.68K  --.-KB/s    in 0s      \n",
            "\n",
            "2022-03-03 20:02:38 (38.1 MB/s) - ‘Al.kpoint.3.out.1’ saved [9909/9909]\n",
            "\n",
            "--2022-03-03 20:02:38--  https://hanfengzhai.net/data/MAE6260/Al.kpoint.4.out\n",
            "Reusing existing connection to hanfengzhai.net:443.\n",
            "HTTP request sent, awaiting response... 200 OK\n",
            "Length: 11012 (11K) [application/octet-stream]\n",
            "Saving to: ‘Al.kpoint.4.out.1’\n",
            "\n",
            "\rAl.kpoint.4.out.1     0%[                    ]       0  --.-KB/s               \rAl.kpoint.4.out.1   100%[===================>]  10.75K  --.-KB/s    in 0s      \n",
            "\n",
            "2022-03-03 20:02:38 (33.6 MB/s) - ‘Al.kpoint.4.out.1’ saved [11012/11012]\n",
            "\n",
            "--2022-03-03 20:02:38--  https://hanfengzhai.net/data/MAE6260/Al.kpoint.5.out\n",
            "Reusing existing connection to hanfengzhai.net:443.\n",
            "HTTP request sent, awaiting response... 200 OK\n",
            "Length: 11406 (11K) [application/octet-stream]\n",
            "Saving to: ‘Al.kpoint.5.out.1’\n",
            "\n",
            "\rAl.kpoint.5.out.1     0%[                    ]       0  --.-KB/s               \rAl.kpoint.5.out.1   100%[===================>]  11.14K  --.-KB/s    in 0s      \n",
            "\n",
            "2022-03-03 20:02:38 (30.2 MB/s) - ‘Al.kpoint.5.out.1’ saved [11406/11406]\n",
            "\n",
            "--2022-03-03 20:02:38--  https://hanfengzhai.net/data/MAE6260/Al.kpoint.6.out\n",
            "Reusing existing connection to hanfengzhai.net:443.\n",
            "HTTP request sent, awaiting response... 200 OK\n",
            "Length: 12631 (12K) [application/octet-stream]\n",
            "Saving to: ‘Al.kpoint.6.out.1’\n",
            "\n",
            "\rAl.kpoint.6.out.1     0%[                    ]       0  --.-KB/s               \rAl.kpoint.6.out.1   100%[===================>]  12.33K  --.-KB/s    in 0s      \n",
            "\n",
            "2022-03-03 20:02:38 (35.8 MB/s) - ‘Al.kpoint.6.out.1’ saved [12631/12631]\n",
            "\n",
            "--2022-03-03 20:02:38--  https://hanfengzhai.net/data/MAE6260/Al.kpoint.7.out\n",
            "Reusing existing connection to hanfengzhai.net:443.\n",
            "HTTP request sent, awaiting response... 200 OK\n",
            "Length: 13376 (13K) [application/octet-stream]\n",
            "Saving to: ‘Al.kpoint.7.out.1’\n",
            "\n",
            "\rAl.kpoint.7.out.1     0%[                    ]       0  --.-KB/s               \rAl.kpoint.7.out.1   100%[===================>]  13.06K  --.-KB/s    in 0s      \n",
            "\n",
            "2022-03-03 20:02:38 (115 MB/s) - ‘Al.kpoint.7.out.1’ saved [13376/13376]\n",
            "\n",
            "--2022-03-03 20:02:38--  https://hanfengzhai.net/data/MAE6260/Al.kpoint.8.out\n",
            "Reusing existing connection to hanfengzhai.net:443.\n",
            "HTTP request sent, awaiting response... 200 OK\n",
            "Length: 15149 (15K) [application/octet-stream]\n",
            "Saving to: ‘Al.kpoint.8.out.1’\n",
            "\n",
            "\rAl.kpoint.8.out.1     0%[                    ]       0  --.-KB/s               \rAl.kpoint.8.out.1   100%[===================>]  14.79K  --.-KB/s    in 0.001s  \n",
            "\n",
            "2022-03-03 20:02:38 (12.8 MB/s) - ‘Al.kpoint.8.out.1’ saved [15149/15149]\n",
            "\n",
            "--2022-03-03 20:02:38--  https://hanfengzhai.net/data/MAE6260/Al.kpoint.9.out\n",
            "Reusing existing connection to hanfengzhai.net:443.\n",
            "HTTP request sent, awaiting response... 200 OK\n",
            "Length: 16331 (16K) [application/octet-stream]\n",
            "Saving to: ‘Al.kpoint.9.out.1’\n",
            "\n",
            "\rAl.kpoint.9.out.1     0%[                    ]       0  --.-KB/s               \rAl.kpoint.9.out.1   100%[===================>]  15.95K  --.-KB/s    in 0.001s  \n",
            "\n",
            "2022-03-03 20:02:38 (14.6 MB/s) - ‘Al.kpoint.9.out.1’ saved [16331/16331]\n",
            "\n",
            "--2022-03-03 20:02:38--  https://hanfengzhai.net/data/MAE6260/Al.kpoint.10.out\n",
            "Reusing existing connection to hanfengzhai.net:443.\n",
            "HTTP request sent, awaiting response... 200 OK\n",
            "Length: 18695 (18K) [application/octet-stream]\n",
            "Saving to: ‘Al.kpoint.10.out.1’\n",
            "\n",
            "\rAl.kpoint.10.out.1    0%[                    ]       0  --.-KB/s               \rAl.kpoint.10.out.1  100%[===================>]  18.26K  --.-KB/s    in 0.001s  \n",
            "\n",
            "2022-03-03 20:02:38 (15.7 MB/s) - ‘Al.kpoint.10.out.1’ saved [18695/18695]\n",
            "\n",
            "--2022-03-03 20:02:38--  https://hanfengzhai.net/data/MAE6260/Al.kpoint.11.out\n",
            "Reusing existing connection to hanfengzhai.net:443.\n",
            "HTTP request sent, awaiting response... 200 OK\n",
            "Length: 20511 (20K) [application/octet-stream]\n",
            "Saving to: ‘Al.kpoint.11.out.1’\n",
            "\n",
            "\rAl.kpoint.11.out.1    0%[                    ]       0  --.-KB/s               \rAl.kpoint.11.out.1  100%[===================>]  20.03K  --.-KB/s    in 0.001s  \n",
            "\n",
            "2022-03-03 20:02:38 (21.2 MB/s) - ‘Al.kpoint.11.out.1’ saved [20511/20511]\n",
            "\n",
            "--2022-03-03 20:02:38--  https://hanfengzhai.net/data/MAE6260/Al.kpoint.12.out\n",
            "Reusing existing connection to hanfengzhai.net:443.\n",
            "HTTP request sent, awaiting response... 200 OK\n",
            "Length: 23663 (23K) [application/octet-stream]\n",
            "Saving to: ‘Al.kpoint.12.out.1’\n",
            "\n",
            "Al.kpoint.12.out.1  100%[===================>]  23.11K  --.-KB/s    in 0.002s  \n",
            "\n",
            "2022-03-03 20:02:38 (13.1 MB/s) - ‘Al.kpoint.12.out.1’ saved [23663/23663]\n",
            "\n",
            "--2022-03-03 20:02:38--  https://hanfengzhai.net/data/MAE6260/Al.kpoint.13.out\n",
            "Reusing existing connection to hanfengzhai.net:443.\n",
            "HTTP request sent, awaiting response... 200 OK\n",
            "Length: 25984 (25K) [application/octet-stream]\n",
            "Saving to: ‘Al.kpoint.13.out.1’\n",
            "\n",
            "Al.kpoint.13.out.1  100%[===================>]  25.38K  --.-KB/s    in 0.002s  \n",
            "\n",
            "2022-03-03 20:02:38 (13.4 MB/s) - ‘Al.kpoint.13.out.1’ saved [25984/25984]\n",
            "\n",
            "--2022-03-03 20:02:38--  https://hanfengzhai.net/data/MAE6260/Al.kpoint.14.out\n",
            "Reusing existing connection to hanfengzhai.net:443.\n",
            "HTTP request sent, awaiting response... 200 OK\n",
            "Length: 9525 (9.3K) [application/octet-stream]\n",
            "Saving to: ‘Al.kpoint.14.out.1’\n",
            "\n",
            "Al.kpoint.14.out.1  100%[===================>]   9.30K  --.-KB/s    in 0s      \n",
            "\n",
            "2022-03-03 20:02:38 (50.0 MB/s) - ‘Al.kpoint.14.out.1’ saved [9525/9525]\n",
            "\n",
            "--2022-03-03 20:02:38--  https://hanfengzhai.net/data/MAE6260/Al.kpoint.15.out\n",
            "Reusing existing connection to hanfengzhai.net:443.\n",
            "HTTP request sent, awaiting response... 200 OK\n",
            "Length: 9525 (9.3K) [application/octet-stream]\n",
            "Saving to: ‘Al.kpoint.15.out.1’\n",
            "\n",
            "Al.kpoint.15.out.1  100%[===================>]   9.30K  --.-KB/s    in 0s      \n",
            "\n",
            "2022-03-03 20:02:38 (38.8 MB/s) - ‘Al.kpoint.15.out.1’ saved [9525/9525]\n",
            "\n",
            "FINISHED --2022-03-03 20:02:38--\n",
            "Total wall clock time: 0.2s\n",
            "Downloaded: 14 files, 203K in 0.01s (20.4 MB/s)\n"
          ]
        }
      ]
    },
    {
      "cell_type": "code",
      "source": [
        "!awk '/!    total energy              =/' Al.kpoint.2.out Al.kpoint.3.out Al.kpoint.4.out Al.kpoint.5.out Al.kpoint.6.out Al.kpoint.7.out Al.kpoint.8.out Al.kpoint.9.out Al.kpoint.10.out Al.kpoint.11.out Al.kpoint.12.out Al.kpoint.13.out Al.kpoint.14.out Al.kpoint.15.out"
      ],
      "metadata": {
        "colab": {
          "base_uri": "https://localhost:8080/"
        },
        "id": "MNCbT9ym9TOa",
        "outputId": "5509cd14-8d16-4734-bc8a-27f7b8e4f429"
      },
      "execution_count": 58,
      "outputs": [
        {
          "output_type": "stream",
          "name": "stdout",
          "text": [
            "!    total energy              =     -38.28586158 Ry\n",
            "!    total energy              =     -38.19244309 Ry\n",
            "!    total energy              =     -38.24969302 Ry\n",
            "!    total energy              =     -38.26035477 Ry\n",
            "!    total energy              =     -38.27066519 Ry\n",
            "!    total energy              =     -38.26615933 Ry\n",
            "!    total energy              =     -38.26869050 Ry\n",
            "!    total energy              =     -38.26545575 Ry\n",
            "!    total energy              =     -38.27010036 Ry\n",
            "!    total energy              =     -38.26908651 Ry\n",
            "!    total energy              =     -38.26898203 Ry\n",
            "!    total energy              =     -38.26882665 Ry\n",
            "!    total energy              =     -38.26816069 Ry\n",
            "!    total energy              =     -38.26868619 Ry\n"
          ]
        }
      ]
    },
    {
      "cell_type": "code",
      "source": [
        "Al_energy_kpoint = np.array([-38.28586158,-38.19244309,-38.24969302,-38.26035477,-38.27066519,-38.26615933,-38.26869050,-38.26545575,-38.27010036,-38.26908651,-38.26898203,-38.26882665,-38.26816069,-38.26868619])\n",
        "Al_kpoint = np.array([2,3,4,5,6,7,8,9,10,11,12,13,14,15])"
      ],
      "metadata": {
        "id": "QMc3qyoWDGi1"
      },
      "execution_count": 59,
      "outputs": []
    },
    {
      "cell_type": "code",
      "source": [
        "plt.plot(Al_kpoint, Al_energy_kpoint, '-.')\n",
        "plt.plot(Al_kpoint, Al_energy_kpoint, 'ro')\n",
        "plt.xlabel(\"K point number\")\n",
        "plt.ylabel(\"Total energy [Ry]\")\n",
        "plt.savefig(\"fig8.png\",pad_inches=0.1,bbox_inches='tight')"
      ],
      "metadata": {
        "colab": {
          "base_uri": "https://localhost:8080/",
          "height": 279
        },
        "id": "pdiTu3soDWzU",
        "outputId": "1e7619e3-12f8-446a-ac85-96e99cb8f5bb"
      },
      "execution_count": 60,
      "outputs": [
        {
          "output_type": "display_data",
          "data": {
            "image/png": "[encoded data removed]",
            "text/plain": [
              "<Figure size 432x288 with 1 Axes>"
            ]
          },
          "metadata": {
            "needs_background": "light"
          }
        }
      ]
    },
    {
      "cell_type": "markdown",
      "source": [
        "The converged lattice constant is $7.6362$ bohr, which is $4.0409$ Ångstrom. It can be deduced that the energy converged when K point equals 10. According to Tang et al. [3], the lattice constant for Al is $4.0479$ Å. \n",
        "\n",
        "\n"
      ],
      "metadata": {
        "id": "ZVG8cAtOQ3_M"
      }
    },
    {
      "cell_type": "code",
      "source": [
        "!wget https://hanfengzhai.net/data/MAE6260/Al.bulk.7.5980.out https://hanfengzhai.net/data/MAE6260/Al.bulk.7.6056.out https://hanfengzhai.net/data/MAE6260/Al.bulk.7.6133.out https://hanfengzhai.net/data/MAE6260/Al.bulk.7.6209.out https://hanfengzhai.net/data/MAE6260/Al.bulk.7.6286.out https://hanfengzhai.net/data/MAE6260/Al.bulk.7.6362.out https://hanfengzhai.net/data/MAE6260/Al.bulk.7.6438.out https://hanfengzhai.net/data/MAE6260/Al.bulk.7.6515.out"
      ],
      "metadata": {
        "colab": {
          "base_uri": "https://localhost:8080/"
        },
        "id": "0ZWbSwoKE0mu",
        "outputId": "4ac2736d-a34b-4317-e0d6-1e030685fa7d"
      },
      "execution_count": 61,
      "outputs": [
        {
          "output_type": "stream",
          "name": "stdout",
          "text": [
            "--2022-03-03 20:02:39--  https://hanfengzhai.net/data/MAE6260/Al.bulk.7.5980.out\n",
            "Resolving hanfengzhai.net (hanfengzhai.net)... 185.199.109.153\n",
            "Connecting to hanfengzhai.net (hanfengzhai.net)|185.199.109.153|:443... connected.\n",
            "HTTP request sent, awaiting response... 200 OK\n",
            "Length: 18423 (18K) [application/octet-stream]\n",
            "Saving to: ‘Al.bulk.7.5980.out.1’\n",
            "\n",
            "\rAl.bulk.7.5980.out.   0%[                    ]       0  --.-KB/s               \rAl.bulk.7.5980.out. 100%[===================>]  17.99K  --.-KB/s    in 0.001s  \n",
            "\n",
            "2022-03-03 20:02:39 (31.6 MB/s) - ‘Al.bulk.7.5980.out.1’ saved [18423/18423]\n",
            "\n",
            "--2022-03-03 20:02:39--  https://hanfengzhai.net/data/MAE6260/Al.bulk.7.6056.out\n",
            "Reusing existing connection to hanfengzhai.net:443.\n",
            "HTTP request sent, awaiting response... 200 OK\n",
            "Length: 18423 (18K) [application/octet-stream]\n",
            "Saving to: ‘Al.bulk.7.6056.out.1’\n",
            "\n",
            "Al.bulk.7.6056.out. 100%[===================>]  17.99K  --.-KB/s    in 0.001s  \n",
            "\n",
            "2022-03-03 20:02:39 (14.4 MB/s) - ‘Al.bulk.7.6056.out.1’ saved [18423/18423]\n",
            "\n",
            "--2022-03-03 20:02:39--  https://hanfengzhai.net/data/MAE6260/Al.bulk.7.6133.out\n",
            "Reusing existing connection to hanfengzhai.net:443.\n",
            "HTTP request sent, awaiting response... 200 OK\n",
            "Length: 18380 (18K) [application/octet-stream]\n",
            "Saving to: ‘Al.bulk.7.6133.out.1’\n",
            "\n",
            "Al.bulk.7.6133.out. 100%[===================>]  17.95K  --.-KB/s    in 0.001s  \n",
            "\n",
            "2022-03-03 20:02:39 (15.2 MB/s) - ‘Al.bulk.7.6133.out.1’ saved [18380/18380]\n",
            "\n",
            "--2022-03-03 20:02:39--  https://hanfengzhai.net/data/MAE6260/Al.bulk.7.6209.out\n",
            "Reusing existing connection to hanfengzhai.net:443.\n",
            "HTTP request sent, awaiting response... 200 OK\n",
            "Length: 18380 (18K) [application/octet-stream]\n",
            "Saving to: ‘Al.bulk.7.6209.out.1’\n",
            "\n",
            "Al.bulk.7.6209.out. 100%[===================>]  17.95K  --.-KB/s    in 0.001s  \n",
            "\n",
            "2022-03-03 20:02:39 (16.5 MB/s) - ‘Al.bulk.7.6209.out.1’ saved [18380/18380]\n",
            "\n",
            "--2022-03-03 20:02:39--  https://hanfengzhai.net/data/MAE6260/Al.bulk.7.6286.out\n",
            "Reusing existing connection to hanfengzhai.net:443.\n",
            "HTTP request sent, awaiting response... 200 OK\n",
            "Length: 18423 (18K) [application/octet-stream]\n",
            "Saving to: ‘Al.bulk.7.6286.out.1’\n",
            "\n",
            "Al.bulk.7.6286.out. 100%[===================>]  17.99K  --.-KB/s    in 0.001s  \n",
            "\n",
            "2022-03-03 20:02:39 (14.7 MB/s) - ‘Al.bulk.7.6286.out.1’ saved [18423/18423]\n",
            "\n",
            "--2022-03-03 20:02:39--  https://hanfengzhai.net/data/MAE6260/Al.bulk.7.6362.out\n",
            "Reusing existing connection to hanfengzhai.net:443.\n",
            "HTTP request sent, awaiting response... 200 OK\n",
            "Length: 18380 (18K) [application/octet-stream]\n",
            "Saving to: ‘Al.bulk.7.6362.out.1’\n",
            "\n",
            "Al.bulk.7.6362.out. 100%[===================>]  17.95K  --.-KB/s    in 0.001s  \n",
            "\n",
            "2022-03-03 20:02:39 (14.4 MB/s) - ‘Al.bulk.7.6362.out.1’ saved [18380/18380]\n",
            "\n",
            "--2022-03-03 20:02:39--  https://hanfengzhai.net/data/MAE6260/Al.bulk.7.6438.out\n",
            "Reusing existing connection to hanfengzhai.net:443.\n",
            "HTTP request sent, awaiting response... 200 OK\n",
            "Length: 18380 (18K) [application/octet-stream]\n",
            "Saving to: ‘Al.bulk.7.6438.out.1’\n",
            "\n",
            "Al.bulk.7.6438.out. 100%[===================>]  17.95K  --.-KB/s    in 0.001s  \n",
            "\n",
            "2022-03-03 20:02:39 (14.3 MB/s) - ‘Al.bulk.7.6438.out.1’ saved [18380/18380]\n",
            "\n",
            "--2022-03-03 20:02:39--  https://hanfengzhai.net/data/MAE6260/Al.bulk.7.6515.out\n",
            "Reusing existing connection to hanfengzhai.net:443.\n",
            "HTTP request sent, awaiting response... 200 OK\n",
            "Length: 18423 (18K) [application/octet-stream]\n",
            "Saving to: ‘Al.bulk.7.6515.out.1’\n",
            "\n",
            "Al.bulk.7.6515.out. 100%[===================>]  17.99K  --.-KB/s    in 0.001s  \n",
            "\n",
            "2022-03-03 20:02:39 (14.8 MB/s) - ‘Al.bulk.7.6515.out.1’ saved [18423/18423]\n",
            "\n",
            "FINISHED --2022-03-03 20:02:39--\n",
            "Total wall clock time: 0.4s\n",
            "Downloaded: 8 files, 144K in 0.009s (15.9 MB/s)\n"
          ]
        }
      ]
    },
    {
      "cell_type": "code",
      "source": [
        "!awk '/P=   /' Al.bulk.7.5980.out Al.bulk.7.6056.out Al.bulk.7.6133.out Al.bulk.7.6209.out Al.bulk.7.6286.out Al.bulk.7.6362.out Al.bulk.7.6438.out Al.bulk.7.6515.out Al.bulk.7.6591.out Al.bulk.7.6668.out Al.bulk.7.6744.out"
      ],
      "metadata": {
        "id": "EwiJsvw1De1Z",
        "colab": {
          "base_uri": "https://localhost:8080/"
        },
        "outputId": "94fa55c6-d0a5-4be7-9ab0-d8fcf2fb649b"
      },
      "execution_count": 62,
      "outputs": [
        {
          "output_type": "stream",
          "name": "stdout",
          "text": [
            "          total   stress  (Ry/bohr**3)                   (kbar)     P=       11.50\n",
            "          total   stress  (Ry/bohr**3)                   (kbar)     P=        9.07\n",
            "          total   stress  (Ry/bohr**3)                   (kbar)     P=        6.63\n",
            "          total   stress  (Ry/bohr**3)                   (kbar)     P=        4.26\n",
            "          total   stress  (Ry/bohr**3)                   (kbar)     P=        1.91\n",
            "          total   stress  (Ry/bohr**3)                   (kbar)     P=       -0.38\n",
            "          total   stress  (Ry/bohr**3)                   (kbar)     P=       -2.64\n",
            "          total   stress  (Ry/bohr**3)                   (kbar)     P=       -4.88\n",
            "awk: cannot open Al.bulk.7.6591.out (No such file or directory)\n"
          ]
        }
      ]
    },
    {
      "cell_type": "code",
      "source": [
        "Al_pressure = np.array([11.50,9.07,6.63,4.26,1.91,-0.38,-2.64,-4.88,-7.06,-9.25,-11.36])\n",
        "Al_energy_bulk = np.array([-39.50199828,-39.50202128,-39.50203912,-39.50205139,-39.50205845,-39.50206016,-39.50205675,-39.50204811,-39.50203454,-39.50201572,-39.50199220])\n",
        "bulk_latt = np.array([7.5980,7.6056,7.6133,7.6209,7.6286,7.6362,7.6438,7.6515,7.6591,7.6668,7.6744])\n",
        "bulk_volume = (bulk_latt * .529177)**3 / 4\n",
        "# bulk_volume = np.array([109.6574,109.9868,110.3212,110.6519,110.9876,111.3197,111.6524,111.9901,112.3242,112.6633,112.9987])\n",
        "print(bulk_volume)"
      ],
      "metadata": {
        "colab": {
          "base_uri": "https://localhost:8080/"
        },
        "id": "EsVGULy4UiMY",
        "outputId": "593dfb99-59f9-434d-a4e2-e9138fcb9bfe"
      },
      "execution_count": 63,
      "outputs": [
        {
          "output_type": "stream",
          "name": "stdout",
          "text": [
            "[16.2495282  16.29833841 16.34789044 16.39689732 16.44664881 16.49585277\n",
            " 16.54515476 16.59520555 16.64470521 16.69495646 16.74465418]\n"
          ]
        }
      ]
    },
    {
      "cell_type": "code",
      "source": [
        "import scipy\n",
        "from scipy import optimize\n",
        "def bulk_func(x, a, b):\n",
        "  return a * x + b\n",
        "popt, _ = scipy.optimize.curve_fit(bulk_func, bulk_volume, Al_pressure*160.21766208*25.71104309541616)\n",
        "popt"
      ],
      "metadata": {
        "colab": {
          "base_uri": "https://localhost:8080/"
        },
        "id": "Qg4ObUWfVRab",
        "outputId": "2fcc1a77-5d03-45ae-f011-808e1ded6e2b"
      },
      "execution_count": 64,
      "outputs": [
        {
          "output_type": "execute_result",
          "data": {
            "text/plain": [
              "array([-190148.3867488 , 3135930.15812089])"
            ]
          },
          "metadata": {},
          "execution_count": 64
        }
      ]
    },
    {
      "cell_type": "code",
      "source": [
        "vol_continuum = np.arange(np.min(bulk_volume),np.max(bulk_volume),0.01)\n",
        "press_continuum = -190148.3867488*vol_continuum + 3135930.15812089"
      ],
      "metadata": {
        "id": "kQHdElgQXeUf"
      },
      "execution_count": 65,
      "outputs": []
    },
    {
      "cell_type": "code",
      "source": [
        "plt.plot(bulk_volume, Al_pressure*160.21766208*25.71104309541616, 'ro')\n",
        "plt.plot(vol_continuum, press_continuum, '-.')\n",
        "plt.xlabel(\"Volume [$\\AA^3$]\")\n",
        "plt.ylabel(\"Total pressure [Pa]\")\n",
        "plt.savefig(\"fig9.png\",pad_inches=0.1,bbox_inches='tight')"
      ],
      "metadata": {
        "colab": {
          "base_uri": "https://localhost:8080/",
          "height": 285
        },
        "id": "gu3RMfNnYzlx",
        "outputId": "afdf5d31-5e65-48aa-b6b0-1e7eb6dd938a"
      },
      "execution_count": 66,
      "outputs": [
        {
          "output_type": "display_data",
          "data": {
            "image/png": "[encoded data removed]",
            "text/plain": [
              "<Figure size 432x288 with 1 Axes>"
            ]
          },
          "metadata": {
            "needs_background": "light"
          }
        }
      ]
    },
    {
      "cell_type": "markdown",
      "source": [
        "We can therefore compute the bulk modulus: $B_0 = V\\frac{d P}{dV}$\n",
        "\n",
        "* $$B_0 = 7.6161\\times 10^{10}Pa $$\n",
        "\n",
        "The computed bulk aligns with the online content of 76 and 75 GPa, respectively [1]. It also agrees with the work done by Hijazi and Park [2], and Minshin et al. [3], with the bulk modulus of 79 GPa. The relative error of DFT is $\\approx 3.7\\%$, which is an acceptable accuracy."
      ],
      "metadata": {
        "id": "pCWhAHXgjU8u"
      }
    },
    {
      "cell_type": "markdown",
      "source": [
        "##References\n",
        "[1] Ramprasad *et al.* *Phys. Rev. Lett.* [2012](http://dx.doi.org/10.1103/PhysRevLett.108.066404).\n",
        "\n",
        "[2] Tang *et al.* *Physica B: Condensed Matter*. [2009](https://doi.org/10.1016/j.physb.2009.05.009).\n",
        "\n",
        "[3] Bulk modulus of Aluminium. [link 1](https://www.numerade.com/ask/question/young-modulus-109-nlm-70-shear-modulus-109-nlm-26-bulk-modulus-109-nlm-76-aluminum-brass-100-40-80-glass-70-20-30-35239/), [link 2](https://www.chegg.com/homework-help/questions-and-answers/material-bulk-modulus-b-pa-aluminum-brass-copper-young-s-modulus-y-pa-70-x-100-90-x-100-11-q41007267).\n",
        "\n",
        "[4] Hijazi and Park. *J. Mater. Sci. Technol.* [2009](https://www.jmst.org/EN/Y2009/V25/I06/835).\n",
        "\n",
        "[5] Mishin et al. *Phys. Rev. B.* [1999](https://journals.aps.org/prb/abstract/10.1103/PhysRevB.59.3393).\n",
        "\n"
      ],
      "metadata": {
        "id": "GXnppgWGImxe"
      }
    }
  ]
}