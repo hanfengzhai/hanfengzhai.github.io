{
  "nbformat": 4,
  "nbformat_minor": 0,
  "metadata": {
    "colab": {
      "name": "HW1_MSE5720.ipynb",
      "provenance": [],
      "collapsed_sections": []
    },
    "kernelspec": {
      "name": "python3",
      "display_name": "Python 3"
    }
  },
  "cells": [
    {
      "cell_type": "markdown",
      "metadata": {
        "id": "aFbgw2hsrbqP"
      },
      "source": [
        "# MSE 5720: Homework 1 \n",
        "## Hanfeng Zhai\n",
        "### NetID: $\\tt hz253$\n",
        "### Feb. 28, 2022\n",
        "\n"
      ]
    },
    {
      "cell_type": "markdown",
      "metadata": {
        "id": "kU0yCSZ46PFp"
      },
      "source": [
        "##Introduction\n",
        "\n",
        "\n",
        "This homework includes the calculation of different properties of Boron Arsenide (BAs) using the DFT method. BAs is a chemical compound involving boron and arsenic, widely used in the semiconductor industry ([Wikipedia](https://en.wikipedia.org/wiki/Boron_arsenide)). In exercise 1 the k point grids and plane-wave cutoff are probed to test the energy convergence, specifically on converging the total energy differences. Due to the assumed infinite plane wave cannot being achieved in DFT, a cutoff has to be assumed. To prevent the overuse of computing power with a higher cutoff, an optimal value is desired. K point discretizes the computation domain by increasing the accuracy with higher values, yet also suffers the computational burden. In exercise 2, the optimized lattice constants are obtained using data fitting and Quantum ESPRESSO self-contained optimization algorithms with benchmark values from the literature. The two values are also compared and discussed. In exercise 3 the bulk modulus is computed using curve fitting, and the results were compared with the literature value. To note, bulk modulus can be computed from fitting the second order derivative of parabolic functions with respect to total energy or first order derivative of pressure. In exercise 4 the optimized lattice constant was computed using different pseudopotentials and compared the results from exercise 2. Noted that due to the pseudopotential variate of the DFT computation results, experimental results have to be elicited to benchmark the simulations. In exercise 5 a schematic diagram for the $\\rm XSEDE$ computing environment was provided. "
      ]
    },
    {
      "cell_type": "code",
      "metadata": {
        "id": "4caMgv2n-YJ-",
        "colab": {
          "base_uri": "https://localhost:8080/"
        },
        "outputId": "56098494-613d-4faf-f493-4dc9f53f5f71"
      },
      "source": [
        "import numpy as np\n",
        "import matplotlib.pyplot as plt\n",
        "from datascience import Table\n",
        "%matplotlib inline"
      ],
      "execution_count": null,
      "outputs": [
        {
          "output_type": "stream",
          "name": "stderr",
          "text": [
            "/usr/local/lib/python3.7/dist-packages/datascience/tables.py:17: MatplotlibDeprecationWarning: The 'warn' parameter of use() is deprecated since Matplotlib 3.1 and will be removed in 3.3.  If any parameter follows 'warn', they should be pass as keyword, not positionally.\n",
            "  matplotlib.use('agg', warn=False)\n",
            "/usr/local/lib/python3.7/dist-packages/datascience/util.py:10: MatplotlibDeprecationWarning: The 'warn' parameter of use() is deprecated since Matplotlib 3.1 and will be removed in 3.3.  If any parameter follows 'warn', they should be pass as keyword, not positionally.\n",
            "  matplotlib.use('agg', warn=False)\n"
          ]
        }
      ]
    },
    {
      "cell_type": "markdown",
      "metadata": {
        "id": "DO3LhZPzs2HE"
      },
      "source": [
        "##Exercise 1: Convergence of total energy and forces"
      ]
    },
    {
      "cell_type": "markdown",
      "metadata": {
        "id": "jNdleaQs9Xmk"
      },
      "source": [
        "###Exercise 1a\n",
        "\n",
        "*Set the calculation type to ```scf``` and calculate the total energy in a range from 20 – 100 Ry in increments of 10 Ry. A good absolute energy is converged when the energy difference between a given cutoff and the next highest cutoff is less than around 5 meV/formula unit. Tabulate and make a graph of the results.*"
      ]
    },
    {
      "cell_type": "markdown",
      "source": [
        "The data was obtained using the ```wget``` method from online. The value was extrcted through the ```awk``` method. The data was then postprocessed using the $\\tt NumPy$ library. A table and two digrams containing the total energy and energy differences were provided."
      ],
      "metadata": {
        "id": "QWGPUlFMcAmV"
      }
    },
    {
      "cell_type": "code",
      "metadata": {
        "id": "R2q8uVtTrVIa"
      },
      "source": [
        "# !wget https://hanfengzhai.github.io/data/MSE5720/BAs_20.out https://hanfengzhai.github.io/data/MSE5720/BAs_30.out https://hanfengzhai.github.io/data/MSE5720/BAs_40.out https://hanfengzhai.github.io/data/MSE5720/BAs_50.out https://hanfengzhai.github.io/data/MSE5720/BAs_60.out https://hanfengzhai.github.io/data/MSE5720/BAs_70.out https://hanfengzhai.github.io/data/MSE5720/BAs_80.out https://hanfengzhai.github.io/data/MSE5720/BAs_90.out https://hanfengzhai.github.io/data/MSE5720/BAs_100.out https://hanfengzhai.github.io/data/MSE5720/BAs_10.out https://hanfengzhai.github.io/data/MSE5720/BAs_110.out"
      ],
      "execution_count": null,
      "outputs": []
    },
    {
      "cell_type": "code",
      "metadata": {
        "id": "bfnLfWH7yisf",
        "colab": {
          "base_uri": "https://localhost:8080/"
        },
        "outputId": "23f2c89e-6fdf-4916-f873-773b673f4d77"
      },
      "source": [
        "!pwd\n",
        "!awk '/!    total energy              =/' BAs_10.out BAs_20.out BAs_30.out \\\n",
        "BAs_40.out BAs_50.out BAs_60.out BAs_70.out BAs_80.out BAs_90.out\\\n",
        " BAs_100.out BAs_110.out"
      ],
      "execution_count": null,
      "outputs": [
        {
          "output_type": "stream",
          "name": "stdout",
          "text": [
            "/content\n",
            "!    total energy              =     -45.95196226 Ry\n",
            "!    total energy              =     -46.15612059 Ry\n",
            "!    total energy              =     -46.17723831 Ry\n",
            "!    total energy              =     -46.17881159 Ry\n",
            "!    total energy              =     -46.17903577 Ry\n",
            "!    total energy              =     -46.17936635 Ry\n",
            "!    total energy              =     -46.17959211 Ry\n",
            "!    total energy              =     -46.17963653 Ry\n",
            "!    total energy              =     -46.17965637 Ry\n",
            "!    total energy              =     -46.17968495 Ry\n",
            "!    total energy              =     -46.17970248 Ry\n"
          ]
        }
      ]
    },
    {
      "cell_type": "code",
      "source": [
        "data_Q1a_raw = -np.array([45.95196226, 46.15612059, 46.17723831, 46.17881159, 46.17903577, 46.17936635,\\\n",
        "                46.17959211, 46.17963653, 46.17965637, 46.17968495, 46.17970248])\n",
        "energy = data_Q1a_raw \n",
        "ener_diff = np.abs([data_Q1a_raw[1]-data_Q1a_raw[0],data_Q1a_raw[2]-data_Q1a_raw[1],data_Q1a_raw[3]-data_Q1a_raw[2],\\\n",
        "             data_Q1a_raw[4]-data_Q1a_raw[3],data_Q1a_raw[5]-data_Q1a_raw[4],data_Q1a_raw[6]-data_Q1a_raw[5],\\\n",
        "             data_Q1a_raw[7]-data_Q1a_raw[6],data_Q1a_raw[8]-data_Q1a_raw[7],data_Q1a_raw[9]-data_Q1a_raw[8]])\n",
        "plane_wave = np.arange(20,110,10)\n",
        "print(ener_diff)"
      ],
      "metadata": {
        "colab": {
          "base_uri": "https://localhost:8080/"
        },
        "id": "NTC4z5f-4zjm",
        "outputId": "4649af97-33b7-46ca-aba4-570f555f3a8b"
      },
      "execution_count": null,
      "outputs": [
        {
          "output_type": "stream",
          "name": "stdout",
          "text": [
            "[2.0415833e-01 2.1117720e-02 1.5732800e-03 2.2418000e-04 3.3058000e-04\n",
            " 2.2576000e-04 4.4420000e-05 1.9840000e-05 2.8580000e-05]\n"
          ]
        }
      ]
    },
    {
      "cell_type": "code",
      "source": [
        "tab_1a = Table().with_columns(['Planewave cutoff [Ry]', plane_wave,\\\n",
        "                            'Energy [Ry]', data_Q1a_raw[1:10], \\\n",
        "                            '|Energy difference| [Ry]', ener_diff])\n",
        "tab_1a"
      ],
      "metadata": {
        "colab": {
          "base_uri": "https://localhost:8080/",
          "height": 331
        },
        "id": "iPW2A5AYfDNx",
        "outputId": "9732ce58-204c-4181-9de6-5d5d537082a0"
      },
      "execution_count": null,
      "outputs": [
        {
          "output_type": "execute_result",
          "data": {
            "text/html": [
              "<table border=\"1\" class=\"dataframe\">\n",
              "    <thead>\n",
              "        <tr>\n",
              "            <th>Planewave cutoff [Ry]</th> <th>Energy [Ry]</th> <th>|Energy difference| [Ry]</th>\n",
              "        </tr>\n",
              "    </thead>\n",
              "    <tbody>\n",
              "        <tr>\n",
              "            <td>20                   </td> <td>-46.1561   </td> <td>0.204158                </td>\n",
              "        </tr>\n",
              "        <tr>\n",
              "            <td>30                   </td> <td>-46.1772   </td> <td>0.0211177               </td>\n",
              "        </tr>\n",
              "        <tr>\n",
              "            <td>40                   </td> <td>-46.1788   </td> <td>0.00157328              </td>\n",
              "        </tr>\n",
              "        <tr>\n",
              "            <td>50                   </td> <td>-46.179    </td> <td>0.00022418              </td>\n",
              "        </tr>\n",
              "        <tr>\n",
              "            <td>60                   </td> <td>-46.1794   </td> <td>0.00033058              </td>\n",
              "        </tr>\n",
              "        <tr>\n",
              "            <td>70                   </td> <td>-46.1796   </td> <td>0.00022576              </td>\n",
              "        </tr>\n",
              "        <tr>\n",
              "            <td>80                   </td> <td>-46.1796   </td> <td>4.442e-05               </td>\n",
              "        </tr>\n",
              "        <tr>\n",
              "            <td>90                   </td> <td>-46.1797   </td> <td>1.984e-05               </td>\n",
              "        </tr>\n",
              "        <tr>\n",
              "            <td>100                  </td> <td>-46.1797   </td> <td>2.858e-05               </td>\n",
              "        </tr>\n",
              "    </tbody>\n",
              "</table>"
            ],
            "text/plain": [
              "Planewave cutoff [Ry] | Energy [Ry] | |Energy difference| [Ry]\n",
              "20                    | -46.1561    | 0.204158\n",
              "30                    | -46.1772    | 0.0211177\n",
              "40                    | -46.1788    | 0.00157328\n",
              "50                    | -46.179     | 0.00022418\n",
              "60                    | -46.1794    | 0.00033058\n",
              "70                    | -46.1796    | 0.00022576\n",
              "80                    | -46.1796    | 4.442e-05\n",
              "90                    | -46.1797    | 1.984e-05\n",
              "100                   | -46.1797    | 2.858e-05"
            ]
          },
          "metadata": {},
          "execution_count": 5
        }
      ]
    },
    {
      "cell_type": "code",
      "source": [
        "fig, axs = plt.subplots(1, 2, figsize = (15, 5))\n",
        "axs[0].plot(plane_wave, ener_diff, '-.') \n",
        "axs[0].plot(plane_wave, ener_diff, 'ro') \n",
        "axs[0].plot([20, 100], [0.00036749405469679, 0.00036749405469679], '-')\n",
        "axs[0].text(50, 0.0005, '$\\delta_{Energy} = 5$ [meV]')\n",
        "axs[0].set_xlabel('Planewave cutoff [Ry]')\n",
        "axs[0].set_ylabel('|$\\mathcal{E}_{Energy}$| [Ry]')\n",
        "axs[0].set_yscale('log')\n",
        "axs[1].plot(plane_wave, energy[1:10], '-.') \n",
        "axs[1].plot(plane_wave, energy[1:10], 'ro') \n",
        "axs[1].set_xlabel('Planewave cutoff [Ry]')\n",
        "axs[1].set_ylabel('Energy [Ry]')"
      ],
      "metadata": {
        "colab": {
          "base_uri": "https://localhost:8080/",
          "height": 355
        },
        "id": "QgoUN8It7uU9",
        "outputId": "277ed8b8-ebac-4a65-cbfe-d853ecf2a325"
      },
      "execution_count": null,
      "outputs": [
        {
          "output_type": "execute_result",
          "data": {
            "text/plain": [
              "Text(0, 0.5, 'Energy [Ry]')"
            ]
          },
          "metadata": {},
          "execution_count": 6
        },
        {
          "output_type": "display_data",
          "data": {
            "image/png": "[encoded data removed]",
            "text/plain": [
              "<Figure size 1080x360 with 2 Axes>"
            ]
          },
          "metadata": {
            "needs_background": "light"
          }
        }
      ]
    },
    {
      "cell_type": "markdown",
      "source": [
        "From the left sub figure it can be deduced that the planewave cutoff is **50 Ry**."
      ],
      "metadata": {
        "id": "82qjcA29ydKE"
      }
    },
    {
      "cell_type": "markdown",
      "source": [
        "###Exercise 1b\n",
        "\n",
        "*Keep the calculation type as ```scf``` and set the plane wave cutoff to the converged value you found in the previous exercise; keep the plane wave cutoff (and other variables) constant while testing k-point convergence. There are some “cross effects” in testing cutoff and k-points separately, however we assume these are small. Calculate the total energy for a series of $\\rm M\\times M \\times M$ grids, where M = 2, 3, 4, 5, 6 and 8. Record the total energy for each value of M.*"
      ],
      "metadata": {
        "id": "VQXIIhBQgcxF"
      }
    },
    {
      "cell_type": "code",
      "source": [
        "# !wget https://hanfengzhai.net/data/MSE5720/k2.out https://hanfengzhai.net/data/MSE5720/k3.out https://hanfengzhai.net/data/MSE5720/k4.out https://hanfengzhai.net/data/MSE5720/k5.out https://hanfengzhai.net/data/MSE5720/k6.out https://hanfengzhai.net/data/MSE5720/k7.out https://hanfengzhai.net/data/MSE5720/k8.out https://hanfengzhai.net/data/MSE5720/k9.out https://hanfengzhai.net/data/MSE5720/k10.out https://hanfengzhai.net/data/MSE5720/k11.out https://hanfengzhai.net/data/MSE5720/k12.out"
      ],
      "metadata": {
        "id": "274VFcLZ4DeL"
      },
      "execution_count": null,
      "outputs": []
    },
    {
      "cell_type": "code",
      "source": [
        "!awk '/!    total energy              =/' k2.out k3.out k4.out k5.out k6.out k7.out k8.out k9.out k10.out k11.out k12.out\n",
        "!awk '/number of k points=/' k2.out k3.out k4.out k5.out k6.out k7.out k8.out k9.out k10.out k11.out k12.out"
      ],
      "metadata": {
        "colab": {
          "base_uri": "https://localhost:8080/"
        },
        "id": "XJRwPw8qpbN-",
        "outputId": "52a8957a-566c-44cc-9aea-d4bdbdf3c5f6"
      },
      "execution_count": null,
      "outputs": [
        {
          "output_type": "stream",
          "name": "stdout",
          "text": [
            "!    total energy              =     -45.97569371 Ry\n",
            "!    total energy              =     -46.14456413 Ry\n",
            "!    total energy              =     -46.17903577 Ry\n",
            "!    total energy              =     -46.18823296 Ry\n",
            "!    total energy              =     -46.19102795 Ry\n",
            "!    total energy              =     -46.19195006 Ry\n",
            "!    total energy              =     -46.19227521 Ry\n",
            "!    total energy              =     -46.19239387 Ry\n",
            "!    total energy              =     -46.19243860 Ry\n",
            "!    total energy              =     -46.19245693 Ry\n",
            "!    total energy              =     -46.19246416 Ry\n",
            "     number of k points=     3\n",
            "     number of k points=     4\n",
            "     number of k points=     8\n",
            "     number of k points=    10\n",
            "     number of k points=    16\n",
            "     number of k points=    20\n",
            "     number of k points=    29\n",
            "     number of k points=    35\n",
            "     number of k points=    47\n",
            "     number of k points=    56\n",
            "     number of k points=    72\n"
          ]
        }
      ]
    },
    {
      "cell_type": "code",
      "source": [
        "data_Q1b_raw = np.array([-45.97632130, -46.14456413, -46.17903577, -46.18823296, -46.19102795, -46.19195006, -46.19227521, -46.19239387, -46.19243860, -46.19245693, -46.19246416])\n",
        "energy_k = data_Q1b_raw \n",
        "k_point_unique = np.array([3,4,8,10,16,20,29,35,47,56,72])\n",
        "ener_diff_k = np.abs([data_Q1b_raw[1]-data_Q1b_raw[0],data_Q1b_raw[2]-data_Q1b_raw[1],data_Q1b_raw[3]-data_Q1b_raw[2],\\\n",
        " data_Q1b_raw[4]-data_Q1b_raw[3],data_Q1b_raw[5]-data_Q1b_raw[4],data_Q1b_raw[6]-data_Q1b_raw[5],\\\n",
        " data_Q1b_raw[7]-data_Q1b_raw[6],data_Q1b_raw[8]-data_Q1b_raw[7],data_Q1b_raw[9]-data_Q1b_raw[8],\\\n",
        " data_Q1b_raw[10]-data_Q1b_raw[9]])\n",
        "kpoint = np.array([2,3,4,5,6,7,8,9,10,11,12])\n",
        "print(ener_diff_k)\n"
      ],
      "metadata": {
        "colab": {
          "base_uri": "https://localhost:8080/"
        },
        "id": "-b9D7stV5RU8",
        "outputId": "80c7289e-4647-4d33-d220-c03d64216e7a"
      },
      "execution_count": null,
      "outputs": [
        {
          "output_type": "stream",
          "name": "stdout",
          "text": [
            "[1.6824283e-01 3.4471640e-02 9.1971900e-03 2.7949900e-03 9.2211000e-04\n",
            " 3.2515000e-04 1.1866000e-04 4.4730000e-05 1.8330000e-05 7.2300000e-06]\n"
          ]
        }
      ]
    },
    {
      "cell_type": "code",
      "source": [
        "tab_1b = Table().with_columns(['M grids', kpoint, 'k points number', k_point_unique, 'Energy [Ry]', data_Q1b_raw])\n",
        "tab_1b"
      ],
      "metadata": {
        "colab": {
          "base_uri": "https://localhost:8080/",
          "height": 392
        },
        "id": "g0WwfQQL6BDw",
        "outputId": "a36dbd2c-cbca-45e2-96bd-4a9fa51ad7b7"
      },
      "execution_count": null,
      "outputs": [
        {
          "output_type": "execute_result",
          "data": {
            "text/html": [
              "<table border=\"1\" class=\"dataframe\">\n",
              "    <thead>\n",
              "        <tr>\n",
              "            <th>M grids</th> <th>k points number</th> <th>Energy [Ry]</th>\n",
              "        </tr>\n",
              "    </thead>\n",
              "    <tbody>\n",
              "        <tr>\n",
              "            <td>2      </td> <td>3              </td> <td>-45.9763   </td>\n",
              "        </tr>\n",
              "        <tr>\n",
              "            <td>3      </td> <td>4              </td> <td>-46.1446   </td>\n",
              "        </tr>\n",
              "        <tr>\n",
              "            <td>4      </td> <td>8              </td> <td>-46.179    </td>\n",
              "        </tr>\n",
              "        <tr>\n",
              "            <td>5      </td> <td>10             </td> <td>-46.1882   </td>\n",
              "        </tr>\n",
              "        <tr>\n",
              "            <td>6      </td> <td>16             </td> <td>-46.191    </td>\n",
              "        </tr>\n",
              "        <tr>\n",
              "            <td>7      </td> <td>20             </td> <td>-46.192    </td>\n",
              "        </tr>\n",
              "        <tr>\n",
              "            <td>8      </td> <td>29             </td> <td>-46.1923   </td>\n",
              "        </tr>\n",
              "        <tr>\n",
              "            <td>9      </td> <td>35             </td> <td>-46.1924   </td>\n",
              "        </tr>\n",
              "        <tr>\n",
              "            <td>10     </td> <td>47             </td> <td>-46.1924   </td>\n",
              "        </tr>\n",
              "        <tr>\n",
              "            <td>11     </td> <td>56             </td> <td>-46.1925   </td>\n",
              "        </tr>\n",
              "    </tbody>\n",
              "</table>\n",
              "<p>... (1 rows omitted)</p>"
            ],
            "text/plain": [
              "M grids | k points number | Energy [Ry]\n",
              "2       | 3               | -45.9763\n",
              "3       | 4               | -46.1446\n",
              "4       | 8               | -46.179\n",
              "5       | 10              | -46.1882\n",
              "6       | 16              | -46.191\n",
              "7       | 20              | -46.192\n",
              "8       | 29              | -46.1923\n",
              "9       | 35              | -46.1924\n",
              "10      | 47              | -46.1924\n",
              "11      | 56              | -46.1925\n",
              "... (1 rows omitted)"
            ]
          },
          "metadata": {},
          "execution_count": 10
        }
      ]
    },
    {
      "cell_type": "code",
      "source": [
        "fig_2, axs_2 = plt.subplots(1, 2, figsize = (15, 5))\n",
        "axs_2[0].plot([3,4,5,6,7,8,9,10,11,12], ener_diff_k, '-.') \n",
        "axs_2[0].plot([3,4,5,6,7,8,9,10,11,12], ener_diff_k, 'ro') \n",
        "axs_2[0].plot([3, 12], [0.00036749405469679, 0.00036749405469679], '-')\n",
        "axs_2[0].text(3, 0.0005, '$\\delta_{Energy} = 5$ [meV]')\n",
        "axs_2[0].set_xlabel('k point number')\n",
        "axs_2[0].set_ylabel('|$\\mathcal{E}_{Energy}$| [Ry]')\n",
        "axs_2[0].set_yscale('log')\n",
        "axs_2[1].plot(kpoint, energy_k, '-.') \n",
        "axs_2[1].plot(kpoint, energy_k, 'ro') \n",
        "axs_2[1].set_xlabel('k point number')\n",
        "axs_2[1].set_ylabel('Energy [Ry]')"
      ],
      "metadata": {
        "colab": {
          "base_uri": "https://localhost:8080/",
          "height": 352
        },
        "id": "OeuSCmzK9jIZ",
        "outputId": "95c7aabe-229a-4622-ba5c-56738050b649"
      },
      "execution_count": null,
      "outputs": [
        {
          "output_type": "execute_result",
          "data": {
            "text/plain": [
              "Text(0, 0.5, 'Energy [Ry]')"
            ]
          },
          "metadata": {},
          "execution_count": 11
        },
        {
          "output_type": "display_data",
          "data": {
            "image/png": "[encoded data removed]",
            "text/plain": [
              "<Figure size 1080x360 with 2 Axes>"
            ]
          },
          "metadata": {
            "needs_background": "light"
          }
        }
      ]
    },
    {
      "cell_type": "markdown",
      "source": [
        "It can be deduced that the converged k point number is **8**."
      ],
      "metadata": {
        "id": "xOMfP93lzc6C"
      }
    },
    {
      "cell_type": "markdown",
      "source": [
        "###Exercise 1c\n",
        "\n",
        "*Displace one of the atoms in your unit cell by +0.05 in the z direction (fractional coordinates). Keeping other parameters fixed, calculate the force on the displaced atom as a function of planewave cutoff. A good value would be converged to within 10 meV/Ångstrom (convert this value to Ryd/bohr). Tabulate and make a graph of your results. Use a $6\\times 6\\times 6$ k-point grid and energy cutoffs in the range 20 – 100 Ry. Repeat the calculations at a fixed planewave cutoff while varying the k-point grid.*"
      ],
      "metadata": {
        "id": "QdFNwq8XKkRm"
      }
    },
    {
      "cell_type": "code",
      "source": [
        "# !wget https://hanfengzhai.net/data/MSE5720/z-20.out https://hanfengzhai.net/data/MSE5720/z-30.out https://hanfengzhai.net/data/MSE5720/z-40.out https://hanfengzhai.net/data/MSE5720/z-50.out https://hanfengzhai.net/data/MSE5720/z-60.out https://hanfengzhai.net/data/MSE5720/z-70.out https://hanfengzhai.net/data/MSE5720/z-80.out https://hanfengzhai.net/data/MSE5720/z-90.out https://hanfengzhai.net/data/MSE5720/z-100.out"
      ],
      "metadata": {
        "id": "5P6suMNoKxfr"
      },
      "execution_count": null,
      "outputs": []
    },
    {
      "cell_type": "code",
      "source": [
        "!awk '/Total force =/' z-20.out z-30.out z-40.out z-50.out z-60.out z-70.out z-80.out z-90.out z-100.out"
      ],
      "metadata": {
        "colab": {
          "base_uri": "https://localhost:8080/"
        },
        "id": "cIje4n-6LJVu",
        "outputId": "aeb48627-9829-4ed9-e506-216f64c11b5f"
      },
      "execution_count": null,
      "outputs": [
        {
          "output_type": "stream",
          "name": "stdout",
          "text": [
            "     Total force =     0.162858     Total SCF correction =     0.000035\n",
            "     Total force =     0.161441     Total SCF correction =     0.000003\n",
            "     Total force =     0.161350     Total SCF correction =     0.000012\n",
            "     Total force =     0.161298     Total SCF correction =     0.000010\n",
            "     Total force =     0.161201     Total SCF correction =     0.000015\n",
            "     Total force =     0.161232     Total SCF correction =     0.000004\n",
            "     Total force =     0.161209     Total SCF correction =     0.000004\n",
            "     Total force =     0.161204     Total SCF correction =     0.000007\n",
            "     Total force =     0.161203     Total SCF correction =     0.000005\n"
          ]
        }
      ]
    },
    {
      "cell_type": "code",
      "source": [
        "force_1c = np.array([0.162858, 0.161441, 0.161350, 0.161298, 0.161201, 0.161232, 0.161209, 0.161204, 0.161203])\n",
        "cutoff_1c = [20, 30, 40, 50, 60, 70, 80, 90, 100]\n",
        "force_1c_diff = np.abs([force_1c[1]-force_1c[0],force_1c[2]-force_1c[1],force_1c[3]-force_1c[2], force_1c[4]-force_1c[3], force_1c[5]-force_1c[4], force_1c[6]-force_1c[5], force_1c[7]-force_1c[6], force_1c[8]-force_1c[7]])\n",
        "tab_1c = Table().with_columns(['Planewave cutoff [Ry]', cutoff_1c, 'Force [Ry]', force_1c])\n",
        "tab_1c"
      ],
      "metadata": {
        "colab": {
          "base_uri": "https://localhost:8080/",
          "height": 331
        },
        "id": "sevvrffPcG91",
        "outputId": "4eb8f768-6b34-41f7-a0f1-402d0eff4a00"
      },
      "execution_count": null,
      "outputs": [
        {
          "output_type": "execute_result",
          "data": {
            "text/html": [
              "<table border=\"1\" class=\"dataframe\">\n",
              "    <thead>\n",
              "        <tr>\n",
              "            <th>Planewave cutoff [Ry]</th> <th>Force [Ry]</th>\n",
              "        </tr>\n",
              "    </thead>\n",
              "    <tbody>\n",
              "        <tr>\n",
              "            <td>20                   </td> <td>0.162858  </td>\n",
              "        </tr>\n",
              "        <tr>\n",
              "            <td>30                   </td> <td>0.161441  </td>\n",
              "        </tr>\n",
              "        <tr>\n",
              "            <td>40                   </td> <td>0.16135   </td>\n",
              "        </tr>\n",
              "        <tr>\n",
              "            <td>50                   </td> <td>0.161298  </td>\n",
              "        </tr>\n",
              "        <tr>\n",
              "            <td>60                   </td> <td>0.161201  </td>\n",
              "        </tr>\n",
              "        <tr>\n",
              "            <td>70                   </td> <td>0.161232  </td>\n",
              "        </tr>\n",
              "        <tr>\n",
              "            <td>80                   </td> <td>0.161209  </td>\n",
              "        </tr>\n",
              "        <tr>\n",
              "            <td>90                   </td> <td>0.161204  </td>\n",
              "        </tr>\n",
              "        <tr>\n",
              "            <td>100                  </td> <td>0.161203  </td>\n",
              "        </tr>\n",
              "    </tbody>\n",
              "</table>"
            ],
            "text/plain": [
              "Planewave cutoff [Ry] | Force [Ry]\n",
              "20                    | 0.162858\n",
              "30                    | 0.161441\n",
              "40                    | 0.16135\n",
              "50                    | 0.161298\n",
              "60                    | 0.161201\n",
              "70                    | 0.161232\n",
              "80                    | 0.161209\n",
              "90                    | 0.161204\n",
              "100                   | 0.161203"
            ]
          },
          "metadata": {},
          "execution_count": 14
        }
      ]
    },
    {
      "cell_type": "code",
      "source": [
        "fig_3, axs_3 = plt.subplots(1, 2, figsize = (15, 5))\n",
        "axs_3[0].plot(cutoff_1c[1:9], force_1c_diff, '-.') \n",
        "axs_3[0].plot(cutoff_1c[1:9], force_1c_diff, 'ro') \n",
        "axs_3[0].plot([30, 100], [3.8894e-04, 3.8894e-04], '-')\n",
        "axs_3[0].text(60, 0.0005, '$\\delta_{Force} = 10$ [meV/Ang.]')\n",
        "axs_3[0].set_xlabel('Energy cutoff [Ry]')\n",
        "axs_3[0].set_ylabel('|$\\mathcal{E}_{Force}$| [Ry/bohr]')\n",
        "axs_3[0].set_yscale('log')\n",
        "axs_3[1].plot(cutoff_1c, force_1c, '-.')\n",
        "axs_3[1].plot(cutoff_1c, force_1c, 'ro')\n",
        "axs_3[1].set_xlabel('Energy cutoff [Ry]')\n",
        "axs_3[1].set_ylabel('Force [Ry/bohr]')"
      ],
      "metadata": {
        "colab": {
          "base_uri": "https://localhost:8080/",
          "height": 352
        },
        "id": "OFmSsGGZda2q",
        "outputId": "28f6853b-9306-408f-a8fe-a183d2124fe8"
      },
      "execution_count": null,
      "outputs": [
        {
          "output_type": "execute_result",
          "data": {
            "text/plain": [
              "Text(0, 0.5, 'Force [Ry/bohr]')"
            ]
          },
          "metadata": {},
          "execution_count": 15
        },
        {
          "output_type": "display_data",
          "data": {
            "image/png": "[encoded data removed]",
            "text/plain": [
              "<Figure size 1080x360 with 2 Axes>"
            ]
          },
          "metadata": {
            "needs_background": "light"
          }
        }
      ]
    },
    {
      "cell_type": "code",
      "source": [
        "# !wget https://hanfengzhai.github.io/data/MSE5720/c_k2.out https://hanfengzhai.github.io/data/MSE5720/c_k3.out https://hanfengzhai.github.io/data/MSE5720/c_k4.out https://hanfengzhai.github.io/data/MSE5720/c_k5.out https://hanfengzhai.github.io/data/MSE5720/c_k6.out https://hanfengzhai.github.io/data/MSE5720/c_k7.out https://hanfengzhai.github.io/data/MSE5720/c_k8.out https://hanfengzhai.github.io/data/MSE5720/c_k9.out"
      ],
      "metadata": {
        "id": "a_3MnUUjkl2s"
      },
      "execution_count": null,
      "outputs": []
    },
    {
      "cell_type": "code",
      "source": [
        "!awk '/Total force =/' c_k2.out c_k3.out c_k4.out c_k5.out c_k6.out c_k7.out c_k8.out c_k9.out"
      ],
      "metadata": {
        "colab": {
          "base_uri": "https://localhost:8080/"
        },
        "id": "cjNFcd7MmPK1",
        "outputId": "16baa194-65a4-4d95-fd12-a6ea278543eb"
      },
      "execution_count": null,
      "outputs": [
        {
          "output_type": "stream",
          "name": "stdout",
          "text": [
            "     Total force =     0.224131     Total SCF correction =     0.000006\n",
            "     Total force =     0.179518     Total SCF correction =     0.000003\n",
            "     Total force =     0.167275     Total SCF correction =     0.000005\n",
            "     Total force =     0.162975     Total SCF correction =     0.000013\n",
            "     Total force =     0.161350     Total SCF correction =     0.000012\n",
            "     Total force =     0.160728     Total SCF correction =     0.000012\n",
            "     Total force =     0.160490     Total SCF correction =     0.000012\n",
            "     Total force =     0.160402     Total SCF correction =     0.000012\n"
          ]
        }
      ]
    },
    {
      "cell_type": "code",
      "source": [
        "force_1c_k = np.array([0.224131,0.179518,0.167275,0.162975,0.161350,0.160728,0.160490,0.160402])\n",
        "k_point_1c = [2,3,4,5,6,7,8,9]\n",
        "kpoint_1c_diff = np.abs([force_1c_k[1]-force_1c_k[0],force_1c_k[2]-force_1c_k[1],force_1c_k[3]-force_1c_k[2], force_1c_k[4]-force_1c_k[3], force_1c_k[5]-force_1c_k[4], force_1c_k[6]-force_1c_k[5], force_1c_k[7]-force_1c_k[6]])\n",
        "tab_1c = Table().with_columns(['K point number', k_point_1c, 'Force [Ry]', force_1c_k])\n",
        "tab_1c"
      ],
      "metadata": {
        "colab": {
          "base_uri": "https://localhost:8080/",
          "height": 300
        },
        "id": "WMwSg0McmRRx",
        "outputId": "d84bef1b-6bcc-43fd-ccdc-0511839f1b62"
      },
      "execution_count": null,
      "outputs": [
        {
          "output_type": "execute_result",
          "data": {
            "text/html": [
              "<table border=\"1\" class=\"dataframe\">\n",
              "    <thead>\n",
              "        <tr>\n",
              "            <th>K point number</th> <th>Force [Ry]</th>\n",
              "        </tr>\n",
              "    </thead>\n",
              "    <tbody>\n",
              "        <tr>\n",
              "            <td>2             </td> <td>0.224131  </td>\n",
              "        </tr>\n",
              "        <tr>\n",
              "            <td>3             </td> <td>0.179518  </td>\n",
              "        </tr>\n",
              "        <tr>\n",
              "            <td>4             </td> <td>0.167275  </td>\n",
              "        </tr>\n",
              "        <tr>\n",
              "            <td>5             </td> <td>0.162975  </td>\n",
              "        </tr>\n",
              "        <tr>\n",
              "            <td>6             </td> <td>0.16135   </td>\n",
              "        </tr>\n",
              "        <tr>\n",
              "            <td>7             </td> <td>0.160728  </td>\n",
              "        </tr>\n",
              "        <tr>\n",
              "            <td>8             </td> <td>0.16049   </td>\n",
              "        </tr>\n",
              "        <tr>\n",
              "            <td>9             </td> <td>0.160402  </td>\n",
              "        </tr>\n",
              "    </tbody>\n",
              "</table>"
            ],
            "text/plain": [
              "K point number | Force [Ry]\n",
              "2              | 0.224131\n",
              "3              | 0.179518\n",
              "4              | 0.167275\n",
              "5              | 0.162975\n",
              "6              | 0.16135\n",
              "7              | 0.160728\n",
              "8              | 0.16049\n",
              "9              | 0.160402"
            ]
          },
          "metadata": {},
          "execution_count": 18
        }
      ]
    },
    {
      "cell_type": "code",
      "source": [
        "fig_4, axs_4 = plt.subplots(1, 2, figsize = (15, 5))\n",
        "axs_4[0].plot(k_point_1c[1:8], kpoint_1c_diff, '-.') \n",
        "axs_4[0].plot(k_point_1c[1:8], kpoint_1c_diff, 'ro') \n",
        "axs_4[0].plot([2,9], [3.8894e-04, 3.8894e-04], '-')\n",
        "axs_4[0].text(3, 0.0005, '$\\delta_{Force} = 10$ [meV/Ang.]')\n",
        "axs_4[0].set_xlabel('k point num.')\n",
        "axs_4[0].set_ylabel('|$\\mathcal{E}_{Force}$| [Ry/bohr]')\n",
        "axs_4[0].set_yscale('log')\n",
        "axs_4[1].plot(k_point_1c, force_1c_k, '-.')\n",
        "axs_4[1].plot(k_point_1c, force_1c_k, 'ro')\n",
        "axs_4[1].set_xlabel('k point num.')\n",
        "axs_4[1].set_ylabel('Force [Ry/bohr]')"
      ],
      "metadata": {
        "colab": {
          "base_uri": "https://localhost:8080/",
          "height": 352
        },
        "id": "-HV2S5uWnSQV",
        "outputId": "32a7c0d3-b0a2-4920-d0d5-bc51aec96ef4"
      },
      "execution_count": null,
      "outputs": [
        {
          "output_type": "execute_result",
          "data": {
            "text/plain": [
              "Text(0, 0.5, 'Force [Ry/bohr]')"
            ]
          },
          "metadata": {},
          "execution_count": 19
        },
        {
          "output_type": "display_data",
          "data": {
            "image/png": "[encoded data removed]",
            "text/plain": [
              "<Figure size 1080x360 with 2 Axes>"
            ]
          },
          "metadata": {
            "needs_background": "light"
          }
        }
      ]
    },
    {
      "cell_type": "markdown",
      "source": [
        "It can be deduced that the planewave cutoff is **40 Ry** and the converged k point number is **8**."
      ],
      "metadata": {
        "id": "qGE_FVRQROdR"
      }
    },
    {
      "cell_type": "markdown",
      "source": [
        "##Exercise 2: Optimization of lattice constants"
      ],
      "metadata": {
        "id": "VwBdpieCzRVL"
      }
    },
    {
      "cell_type": "markdown",
      "metadata": {
        "id": "LcNFqy7u6i-f"
      },
      "source": [
        "###Exercise 2a\n",
        "\n",
        "*Keeping the calculation type as ```scf```, vary the lattice constant $±5\\%$ from the initial value in the input file (you can decide on the increments but ideally you should have approximately 10-12 data points in total). Use the converged plane wave cutoff and k-point mesh from Exercise 1C.*"
      ]
    },
    {
      "cell_type": "code",
      "source": [
        "# !wget https://hanfengzhai.net/data/MSE5720/2a_1.out https://hanfengzhai.net/data/MSE5720/2a_2.out https://hanfengzhai.net/data/MSE5720/2a_3.out https://hanfengzhai.net/data/MSE5720/2a_4.out https://hanfengzhai.net/data/MSE5720/2a_5.out https://hanfengzhai.net/data/MSE5720/2a0.out https://hanfengzhai.net/data/MSE5720/2a1.out https://hanfengzhai.net/data/MSE5720/2a1.out https://hanfengzhai.net/data/MSE5720/2a2.out https://hanfengzhai.net/data/MSE5720/2a3.out https://hanfengzhai.net/data/MSE5720/2a4.out https://hanfengzhai.net/data/MSE5720/2a5.out"
      ],
      "metadata": {
        "id": "nJoH3LvVoT80"
      },
      "execution_count": null,
      "outputs": []
    },
    {
      "cell_type": "code",
      "source": [
        "!awk '/!    total energy              =/' 2a5.out 2a4.out 2a3.out 2a2.out 2a1.out 2a0.out 2a_1.out 2a_2.out 2a_3.out 2a_4.out 2a_5.out"
      ],
      "metadata": {
        "colab": {
          "base_uri": "https://localhost:8080/"
        },
        "id": "ktzQLW14r8_4",
        "outputId": "7ee1e82f-03b0-4cc2-ba5c-d78cb6b251f8"
      },
      "execution_count": null,
      "outputs": [
        {
          "output_type": "stream",
          "name": "stdout",
          "text": [
            "!    total energy              =     -46.15638523 Ry\n",
            "!    total energy              =     -46.16511922 Ry\n",
            "!    total energy              =     -46.17154250 Ry\n",
            "!    total energy              =     -46.17585219 Ry\n",
            "!    total energy              =     -46.17821564 Ry\n",
            "!    total energy              =     -46.17881159 Ry\n",
            "!    total energy              =     -46.17779316 Ry\n",
            "!    total energy              =     -46.17529948 Ry\n",
            "!    total energy              =     -46.17147357 Ry\n",
            "!    total energy              =     -46.16643653 Ry\n",
            "!    total energy              =     -46.16029823 Ry\n"
          ]
        }
      ]
    },
    {
      "cell_type": "markdown",
      "source": [
        "The data fitting function considering the equations in the homework template is written as:\n",
        "\n",
        "$$E_{tot}(a) \\approx E_0 + \\frac{1}{2} \\left[\\frac{d^2 E_{tot}}{da^2}\\right]_{a_0} (a - a_0)^2$$"
      ],
      "metadata": {
        "id": "LZjVLS1dsxpD"
      }
    },
    {
      "cell_type": "code",
      "source": [
        "Ener_2a = np.array([-46.15638523,-46.16511922,-46.17154250,-46.17585219,-46.17821564,-46.17881159,-46.17779316,-46.17529948,-46.17147357,-46.16643653,-46.16029823])\n",
        "Lattice_2a = np.array([8.55, 8.64, 8.73, 8.82, 8.91, 9, 9.09, 9.18, 9.27, 9.36, 9.45])\n",
        "Lattice_2a_Angstrom = Lattice_2a * 0.529177"
      ],
      "metadata": {
        "id": "vc96mZrftf_2"
      },
      "execution_count": null,
      "outputs": []
    },
    {
      "cell_type": "code",
      "source": [
        "# np.polyfit(Lattice_2a, Ener_2a, 2)\n",
        "import scipy\n",
        "def ener_fit(Lattice_2a_Angstrom, E0, betta, a0):\n",
        "  return E0 + betta * (Lattice_2a_Angstrom - a0)**2\n",
        "popt, _ = scipy.optimize.curve_fit(ener_fit, Lattice_2a_Angstrom, Ener_2a)\n",
        "print(popt)\n",
        "lattice_continu = np.arange(8.55, 9.45, 0.01) * 0.529177\n",
        "Ener_fit_func = -46.17885855 + 0.3609887*(lattice_continu -  4.76870022)**2\n",
        "plt.plot(Lattice_2a_Angstrom, Ener_2a, 'ro')\n",
        "plt.plot(lattice_continu, Ener_fit_func, '-.')\n",
        "plt.xlabel('Lattice Constant ($\\AA$)')\n",
        "plt.ylabel('Total Energy (Ry.)')\n",
        "plt.text(4.52,-46.16,'$E_{tot}\\;(a)=-46.17885855+0.3609887 (a-4.76870022)^2$', fontsize=11)"
      ],
      "metadata": {
        "colab": {
          "base_uri": "https://localhost:8080/",
          "height": 319
        },
        "id": "H1mcrUiuvwl4",
        "outputId": "76895fe0-0266-4eb2-c4d2-07ea92d30efa"
      },
      "execution_count": null,
      "outputs": [
        {
          "output_type": "stream",
          "name": "stdout",
          "text": [
            "[-46.17885855   0.3609887    4.76870022]\n"
          ]
        },
        {
          "output_type": "execute_result",
          "data": {
            "text/plain": [
              "Text(4.52, -46.16, '$E_{tot}\\\\;(a)=-46.17885855+0.3609887 (a-4.76870022)^2$')"
            ]
          },
          "metadata": {},
          "execution_count": 23
        },
        {
          "output_type": "display_data",
          "data": {
            "image/png": "[encoded data removed]",
            "text/plain": [
              "<Figure size 432x288 with 1 Axes>"
            ]
          },
          "metadata": {
            "needs_background": "light"
          }
        }
      ]
    },
    {
      "cell_type": "markdown",
      "source": [
        "We therefore obtain the fitting parameters: $E_0 = -46.17885855\\rm\\ Ry$, $\\beta = 0.3609887\\ \\frac{\\rm Ry}{Å^2}$, $a_0 = 4.76870022Å$."
      ],
      "metadata": {
        "id": "WIl11hOJCEXa"
      }
    },
    {
      "cell_type": "markdown",
      "source": [
        "If taking the value from Wikipedia [4] as a benchmark value, the fitted lattice constant has a relative error of $0.17\\%$. "
      ],
      "metadata": {
        "id": "JOPx9IynkiyW"
      }
    },
    {
      "cell_type": "markdown",
      "source": [
        "###Exercise 2b\n",
        "\n",
        "*Change the calculation type to ```vc-relax``` and add the following lines to your input file. The ion dynamics and cell dynamics keywords select the optimization algorithm (in this case, Broyden-Fletcher-Goldfarb-Shanno), while press=0.d0 is the target pressure on the cell in KBar, i.e. the calculation will stop when the pressure on the unit cell is 0 KBar (actually, less than 0.5 KBar). Two other criteria must be satisfied.*"
      ],
      "metadata": {
        "id": "3fwq7Fb8_N9u"
      }
    },
    {
      "cell_type": "code",
      "source": [
        "prob1_c_new = 8.9724*0.529177\n",
        "print(prob1_c_new)"
      ],
      "metadata": {
        "colab": {
          "base_uri": "https://localhost:8080/"
        },
        "id": "qfBI6Be7Arrw",
        "outputId": "e1d3c2f0-7c4c-4847-9042-2ef632b94cf1"
      },
      "execution_count": null,
      "outputs": [
        {
          "output_type": "stream",
          "name": "stdout",
          "text": [
            "4.747987714800001\n"
          ]
        }
      ]
    },
    {
      "cell_type": "markdown",
      "source": [
        "The optimized lattice constant is $4.747987714800001 Å$. If taking the value from Wikipedia [4] as a benchmark value, the fitted lattice constant has a relative error of $0.61\\%$. Also, comparing with the results from Lv et al. [1], the lattice constant of BAs equals $4.7830Å$, which means my calculated value has an relative error of $0.73 \\%$."
      ],
      "metadata": {
        "id": "OC2x9gpd2Pnw"
      }
    },
    {
      "cell_type": "markdown",
      "source": [
        "###Exercise 2c\n",
        "\n",
        "*What is the optimized value of the lattice constant for your material and how does it compare with the value you calculated using the fitting procedure above? How do your calculated values compare with a) experiment, and b) DFT calculations from the literature (you should make sure to compare with calculations performed with the same XC-functional you used) The material you are performing calculations on may exist in a number of different crystal structures. Make sure you are comparing your lattice constants to literature data on the same phase of the material.*\n"
      ],
      "metadata": {
        "id": "fYlbB_QARD55"
      }
    },
    {
      "cell_type": "markdown",
      "source": [
        "The optimized value from parabolic data fitting is 4.76870022Å, with an relative error of 0.17% compared with the benchmark value from Wikipedia [1]; the optimized lattice constant using Quantum ESPRESSO's inner optimiation algorithm is 4.747987714800001Å, has an relative error of 0.61% compared with the benchmark value from Wikipedia [4]. For DFT calculation using PBE pseudopotentials, the optimized lattice constant is 4.829Å [5], our curve fitting result has an relative error of 1.25%, and the Quantum ESPRESSO's ```bfgs``` optimized results have a relative error of 1.68%. For experimental values, referring to Mo et al. [5], the measured lattice constant is 4.764Å, the curve fitting result has a relative error of 0.0987%, and the ```bfgs``` optimized result has a relative error of 0.3361%."
      ],
      "metadata": {
        "id": "Zrp84Jis2agm"
      }
    },
    {
      "cell_type": "markdown",
      "source": [
        "##Exercise 3: Calculating the bulk modulus\n",
        "\n",
        "###Exercise 3a\n",
        "\n",
        "*Calculate the bulk modulus of your material (in GPa) at its equilibrium lattice parameter.*"
      ],
      "metadata": {
        "id": "wb9vLgV8RKOE"
      }
    },
    {
      "cell_type": "code",
      "source": [
        "Volume_3a = Lattice_2a_Angstrom ** 3\n",
        "def bulk_func(Volume_3a, a, b, c):\n",
        "  return a * Volume_3a**2 + Volume_3a*b + c\n",
        "\n",
        "popt, _ = scipy.optimize.curve_fit(bulk_func, Volume_3a, Ener_2a)\n",
        "print(popt)\n",
        "volum_continuum = np.arange(92.6192423,125.05420658, 0.01) \n",
        "Ener_fit_volume = 7.75451962e-05*volum_continuum**2 - 1.69079910e-02*volum_continuum - 4.52571956e+01"
      ],
      "metadata": {
        "colab": {
          "base_uri": "https://localhost:8080/"
        },
        "id": "qY91uhirRDap",
        "outputId": "b9a65513-e17e-4f3c-e185-83bd8ce7377f"
      },
      "execution_count": null,
      "outputs": [
        {
          "output_type": "stream",
          "name": "stdout",
          "text": [
            "[ 7.75451962e-05 -1.69079910e-02 -4.52571956e+01]\n"
          ]
        }
      ]
    },
    {
      "cell_type": "markdown",
      "source": [
        "The equation for computing the volume using the equation $V = ({\\bf a}_1 \\times {\\bf a}_2) \\cdot {\\bf a}_3$"
      ],
      "metadata": {
        "id": "iAt_VZxNwT9p"
      }
    },
    {
      "cell_type": "code",
      "source": [
        "a1_1 = np.array([-0.500000, 0.000000, 0.500000])*Lattice_2a[0]*0.529177; a2_1 = np.array([0.000000, 0.500000,0.500000])*Lattice_2a[0] * 0.529177;a3_1 = np.array([-0.500000, 0.500000, 0.000000])*Lattice_2a[0]*0.529177\n",
        "a1_2 = np.array([-0.500000, 0.000000, 0.500000])*Lattice_2a[1]*0.529177; a2_2 = np.array([0.000000, 0.500000,0.500000])*Lattice_2a[1] * 0.529177; a3_2 = np.array([-0.500000, 0.500000, 0.000000])*Lattice_2a[1]*0.529177\n",
        "a1_3 = np.array([-0.500000, 0.000000, 0.500000])*Lattice_2a[2]*0.529177; a2_3 = np.array([0.000000, 0.500000,0.500000])*Lattice_2a[2] * 0.529177; a3_3 = np.array([-0.500000, 0.500000, 0.000000])*Lattice_2a[2]*0.529177\n",
        "a1_4 = np.array([-0.500000, 0.000000, 0.500000])*Lattice_2a[3]*0.529177; a2_4 = np.array([0.000000, 0.500000,0.500000])*Lattice_2a[3] * 0.529177; a3_4 = np.array([-0.500000, 0.500000, 0.000000])*Lattice_2a[3]*0.529177\n",
        "a1_5 = np.array([-0.500000, 0.000000, 0.500000])*Lattice_2a[4]*0.529177; a2_5 = np.array([0.000000, 0.500000,0.500000])*Lattice_2a[4] * 0.529177; a3_5 = np.array([-0.500000, 0.500000, 0.000000])*Lattice_2a[4]*0.529177\n",
        "a1_6 = np.array([-0.500000, 0.000000, 0.500000])*Lattice_2a[5]*0.529177; a2_6 = np.array([0.000000, 0.500000,0.500000])*Lattice_2a[5] * 0.529177; a3_6 = np.array([-0.500000, 0.500000, 0.000000])*Lattice_2a[5]*0.529177\n",
        "a1_7 = np.array([-0.500000, 0.000000, 0.500000])*Lattice_2a[6]*0.529177; a2_7 = np.array([0.000000, 0.500000,0.500000])*Lattice_2a[6] * 0.529177; a3_7 = np.array([-0.500000, 0.500000, 0.000000])*Lattice_2a[6]*0.529177\n",
        "a1_8 = np.array([-0.500000, 0.000000, 0.500000])*Lattice_2a[7]*0.529177; a2_8 = np.array([0.000000, 0.500000,0.500000])*Lattice_2a[7] * 0.529177; a3_8 = np.array([-0.500000, 0.500000, 0.000000])*Lattice_2a[7]*0.529177\n",
        "a1_9 = np.array([-0.500000, 0.000000, 0.500000])*Lattice_2a[8]*0.529177; a2_9 = np.array([0.000000, 0.500000,0.500000])*Lattice_2a[8] * 0.529177; a3_9 = np.array([-0.500000, 0.500000, 0.000000])*Lattice_2a[8]*0.529177\n",
        "a1_10 = np.array([-0.500000, 0.000000, 0.500000])*Lattice_2a[9]*0.529177; a2_10 = np.array([0.000000, 0.500000,0.500000])*Lattice_2a[9] * 0.529177; a3_10 = np.array([-0.500000, 0.500000, 0.000000])*Lattice_2a[9]*0.529177\n",
        "a1_11 = np.array([-0.500000, 0.000000, 0.500000])*Lattice_2a[10]*0.529177; a2_11 = np.array([0.000000, 0.500000,0.500000])*Lattice_2a[10] * 0.529177; a3_11 = np.array([-0.500000, 0.500000, 0.000000])*Lattice_2a[10]*0.529177\n",
        "\n",
        "Volume_3a_1 = np.dot(np.cross(a1_1,a2_1),a3_1);Volume_3a_2 = np.dot(np.cross(a1_2,a2_2),a3_2);Volume_3a_3 = np.dot(np.cross(a1_3,a2_3),a3_3)\n",
        "Volume_3a_4 = np.dot(np.cross(a1_4,a2_4),a3_4);Volume_3a_5 = np.dot(np.cross(a1_5,a2_5),a3_5);Volume_3a_6 = np.dot(np.cross(a1_6,a2_6),a3_6)\n",
        "Volume_3a_7 = np.dot(np.cross(a1_7,a2_7),a3_7);Volume_3a_8 = np.dot(np.cross(a1_8,a2_8),a3_8);Volume_3a_9 = np.dot(np.cross(a1_9,a2_9),a3_9)\n",
        "Volume_3a_10 = np.dot(np.cross(a1_10,a2_10),a3_10);Volume_3a_11 = np.dot(np.cross(a1_11,a2_11),a3_11);\n",
        "Volume_3a_unit = [Volume_3a_1,Volume_3a_2,Volume_3a_3,Volume_3a_4,Volume_3a_5,Volume_3a_6,Volume_3a_7,Volume_3a_8,Volume_3a_9,Volume_3a_10,Volume_3a_11]\n",
        "type(Volume_3a_unit)\n",
        "Volume_3a_unit = np.array(Volume_3a_unit)\n",
        "Volume_3a_unit = Volume_3a_unit*.5\n",
        "Volume_3a_unit# in the unit of Angstrom^3"
      ],
      "metadata": {
        "id": "NWZUbuKwHCVd",
        "colab": {
          "base_uri": "https://localhost:8080/"
        },
        "outputId": "b29bfcab-1a21-446c-e666-4db91e6f4547"
      },
      "execution_count": null,
      "outputs": [
        {
          "output_type": "execute_result",
          "data": {
            "text/plain": [
              "array([11.57740529, 11.94686951, 12.32411164, 12.7092127 , 13.10225371,\n",
              "       13.50331569, 13.91247966, 14.32982663, 14.75543764, 15.1893937 ,\n",
              "       15.63177582])"
            ]
          },
          "metadata": {},
          "execution_count": 26
        }
      ]
    },
    {
      "cell_type": "code",
      "source": [
        "def bulk_func(x, a, b, c):\n",
        "  return a * x**2 + b * x + c\n",
        "popt, _ = scipy.optimize.curve_fit(bulk_func, Volume_3a_unit, Ener_2a*13.6056980659)\n",
        "print(popt)\n",
        "volum_continuum = np.arange(np.min(Volume_3a_unit), np.max(Volume_3a_unit))\n",
        "Ener_fit_volume = (6.75234395e-02 * (volum_continuum)**2 -1.84035532e+00 * (volum_continuum) -6.15755772e+02)"
      ],
      "metadata": {
        "colab": {
          "base_uri": "https://localhost:8080/"
        },
        "id": "exaqwAmsD8SM",
        "outputId": "579b5bf7-9915-4012-9a2f-61bdb995c3ee"
      },
      "execution_count": null,
      "outputs": [
        {
          "output_type": "stream",
          "name": "stdout",
          "text": [
            "[ 6.75234395e-02 -1.84035532e+00 -6.15755772e+02]\n"
          ]
        }
      ]
    },
    {
      "cell_type": "code",
      "source": [
        "import scipy\n",
        "def bulk_func(x, a, b, c):\n",
        "  return a * x**2 + b * x + c\n",
        "popt, _ = scipy.optimize.curve_fit(bulk_func, Volume_3a_unit, Ener_2a)\n",
        "print(popt)\n",
        "volum_continuum = np.arange(np.min(Volume_3a_unit), np.max(Volume_3a_unit), 0.01)\n",
        "Ener_fit_volume_new = (4.96288760e-03* (volum_continuum)**2 -1.35263793e-01 * (volum_continuum) -4.52571965e+01)"
      ],
      "metadata": {
        "id": "TKbw6eg6RDUn",
        "colab": {
          "base_uri": "https://localhost:8080/"
        },
        "outputId": "9d9f00fb-a550-4b07-db9c-4b078264176d"
      },
      "execution_count": null,
      "outputs": [
        {
          "output_type": "stream",
          "name": "stdout",
          "text": [
            "[ 4.96288760e-03 -1.35263793e-01 -4.52571965e+01]\n"
          ]
        }
      ]
    },
    {
      "cell_type": "code",
      "metadata": {
        "id": "b89v0K7dzWm5",
        "colab": {
          "base_uri": "https://localhost:8080/",
          "height": 302
        },
        "outputId": "3c2d36ba-d084-483e-8516-254ab2e1cc62"
      },
      "source": [
        "plt.plot(Volume_3a_unit, Ener_2a, 'ro')\n",
        "plt.plot(volum_continuum, Ener_fit_volume_new, '-.')\n",
        "plt.xlabel('Volume ($\\AA^3$)')\n",
        "plt.ylabel('Total Energy [eV]')\n",
        "# plt.text(2,-46.16,'$E_{tot}\\;(a)=7.75\\\\times 10^{-5}V^2-1.69\\\\times10^{-2} V -45.26 $', fontsize=11)"
      ],
      "execution_count": null,
      "outputs": [
        {
          "output_type": "execute_result",
          "data": {
            "text/plain": [
              "Text(0, 0.5, 'Total Energy [eV]')"
            ]
          },
          "metadata": {},
          "execution_count": 29
        },
        {
          "output_type": "display_data",
          "data": {
            "image/png": "[encoded data removed]",
            "text/plain": [
              "<Figure size 432x288 with 1 Axes>"
            ]
          },
          "metadata": {
            "needs_background": "light"
          }
        }
      ]
    },
    {
      "cell_type": "markdown",
      "source": [
        "According to the equation $B_0 = V\\frac{d^2 E_{tot}}{dV^2}$, we can therefore compute the bulk modulus: \n",
        "\n",
        "$$B_0 =  \\frac{1.84035532}{2\\times 6.75234395\\times 10^{-2}} \\times 6.75234395\\times 10^{-2} \\times 160.21766208 \\rm GPa = 147.4323 GPa$$.\n",
        "\n",
        "According to Tian *et al*, [[1](https://aip.scitation.org/doi/10.1063/1.5093289)], the bulk modulus of BAs is 142 GPa, indicating the DFT computed bulk modulus has the relative error of $3.83\\%$."
      ],
      "metadata": {
        "id": "IsIPFcA2x8pP"
      }
    },
    {
      "cell_type": "markdown",
      "source": [
        "##Exercise 4: Effect of different XC-functionals on lattice parameter\n",
        "\n",
        "*In the input file, modify the pseudopotential information to use PBE pseudopotentials (Espresso determines which XC-functional to use from the pseudopotential files. Calculate the equilibrium lattice parameter using Espresso’s optimization algorithm.*"
      ],
      "metadata": {
        "id": "d-qo7ISUsGl1"
      }
    },
    {
      "cell_type": "markdown",
      "source": [
        "\n",
        "The computed lattice constant is $9.1069$ bohr ($4.8192 Å$), having a relative error of $0.88\\%$, if taking the value from Wikipedia [4] as a benchmark. Compared with our optimized values using curve fitting and Quantum ESPRESSO ```bfgs``` optimization algorithms, the ```LDA``` pseudopotentials has a relative higher value with a little higher relative errors. Also, considering DFT calculations using the LDA pseudopotantials, the literature [5] has a value of 4.750Å, the computed results have a relative error of 1.45%. Compared with the results from experiment [5], the DFT calculation has a relative error of 1.15%."
      ],
      "metadata": {
        "id": "wxfcG0zKi32G"
      }
    },
    {
      "cell_type": "markdown",
      "source": [
        "##Exercise 5: Linux and the supercomputing environment\n",
        "\n",
        "*Draw a block diagram that visually represents the relationships between the following components of the Linux OS and the Stampede supercomputing environment: kernel, shell, login node, compute notes, batch queue, your laptop.*\n",
        "\n",
        "![A schematic view for stampede environment](https://hanfengzhai.github.io/data/MSE5720/stampede_schematic.png)\n",
        "\n",
        "\n",
        "\n",
        "\n",
        "\n"
      ],
      "metadata": {
        "id": "RYHnOe85_h_u"
      }
    },
    {
      "cell_type": "markdown",
      "metadata": {
        "id": "1fyALTaE6Uaq"
      },
      "source": [
        "##Summary\n",
        "\n",
        "In this homework, the different physical properties of BAs were tested and computed using the DFT method. The energy convergence was tested by probing the k point and energy cutoff using the ```scf``` method. The data were extracted using ```awk``` and ```wget``` from the out files. For exercise 1, based on the energy differences convergence, it is found that for BAs, the plane wave cutoff is $50 \\rm \\ bohr$ and k point was $4$. For displaced BAs, it is found that the convergent k point is $8$ and the energy cutoff is $40 \\rm \\ bohr$. For exercise 2, the computed lattice constant is approximately $4.74 Å$, which aligns with the experimental value well, with a relative error of $0.73\\%$ [1]. For exercise 3, the bulk modulus was computed by fitting the data between volume and energy in the second order. The computed bulk modulus is $147.4323\\rm GPa$, which has a relative error of $3.83\\%$ compared with the experimental value by Tian et al. [2]. For exercise 4, the computed lattice constant is $4.8192 Å$, which is larger compared with the computed value in exercise 2. If using the value from Wikipedia [4] as a benchmark, the relative errors of the computed lattice constants for curve fitting, Quantum ESPRESSO optimization algorithm, and PBE pseudopotentials are 0.17%, 0.61%, and 0.88%, respectively. A schematic of the XSEDE computing environment is provided for exercise 5. From the exercises, I am able to execute basic DFT computation techniques on materials convergence from different properties. I also grow a more advanced understanding of the definition of different properties, i.e., plane-wave cutoff, k point, and their effect on the convergence of energy differences."
      ]
    },
    {
      "cell_type": "markdown",
      "source": [
        "##References\n",
        "\n",
        "[1] Lv *et al.*, *Appl. Phys. Lett.*, 2019, [10.1063/1.4913441](https://aip.scitation.org/doi/abs/10.1063/1.4913441)\n",
        "\n",
        "[2] Tian *et al.*, *Appl. Phys. Lett.*, 2019, [10.1063/1.5093289](https://doi.org/10.1063/1.5093289)\n",
        "\n",
        "[3] Rössler. New Data and Updates for IV-IV, III-V, II-VI and I-VII Compounds, their Mixed Crystals and Diluted Magnetic Semiconductors, 2022, [10.1007/978-3-642-14148-5](https://materials.springer.com/bp/docs/978-3-642-14148-5)\n",
        "\n",
        "[4] Wikipedia: https://en.wikipedia.org/wiki/Boron_arsenide\n",
        "\n",
        "[5] Mo *et al.*, *AIP Advances*., 2018, [10.1063/1.5050241](https://doi.org/10.1063/1.5050241) \n"
      ],
      "metadata": {
        "id": "BUAIRC-MjHv6"
      }
    }
  ]
}