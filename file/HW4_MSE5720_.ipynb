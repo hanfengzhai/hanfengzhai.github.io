{
  "nbformat": 4,
  "nbformat_minor": 0,
  "metadata": {
    "colab": {
      "name": "HW4_MSE5720_.ipynb",
      "provenance": [],
      "collapsed_sections": []
    },
    "kernelspec": {
      "name": "python3",
      "display_name": "Python 3"
    }
  },
  "cells": [
    {
      "cell_type": "markdown",
      "metadata": {
        "id": "aFbgw2hsrbqP"
      },
      "source": [
        "# MSE 5720: Homework 4\n",
        "## Hanfeng Zhai\n",
        "### NetID: $\\tt hz253$\n",
        "### May 2, 2022\n",
        "\n"
      ]
    },
    {
      "cell_type": "markdown",
      "metadata": {
        "id": "kU0yCSZ46PFp"
      },
      "source": [
        "##Introduction\n",
        "\n",
        "In this homework, we are assigned to compute multiple properties of calcite, including the cell parameters, vibrational modes, the effect of vibrational modes, mode intensities comparisons, etc. In Exercise 1A, the cell parameters are converged by changing the energy cutoff and k point. The convergence started by inputting the given ideal unit cell and applying ```vc-relax``` calculation in Quantum ESPRESSO to relax the structures until the message ```bfgs converged in 1 scf cycles and 0 bfgs steps``` popped up. During the process, the values of $\\tt celldm(1)$ and $\\tt celldm(4)$ is recorded and plotted. The optimized structure is plotted in VESTA in Exercise 1B. In Exercise 2A, the zone-center vibrational modes were calculated based on the output from the zone-center phonon dispersion. The computed vibrational intensities are thence listed in a table and compared with literature values. In Exercise 3A, five different disordered structures are generated based on a normal distribution of variation of $5^{\\rm o}$, and the corresponding $a$ and $c$ are computed based on the given equation. In exercise 3B, the phonon frequencies at the zone center are computed following Exercise 2A. The data of three degrees' disordered structures considering different rhombohedral angles are plotted in Exercise 3C. Based on the provided python script, the ratio of peak intensities for $\\nu_2/\\nu_3$ and $\\nu_4/\\nu_3$ are computed considering the definition of the three different intensities in the instructions in Exercise 4A. The relation between $\\nu_2/\\nu_3$ and $\\nu_4/\\nu_3$ were plotted in dots, where $\\nu_4$ and $\\nu_2$ exhibits a position correlation.\n"
      ]
    },
    {
      "cell_type": "code",
      "metadata": {
        "id": "4caMgv2n-YJ-",
        "colab": {
          "base_uri": "https://localhost:8080/"
        },
        "outputId": "63dfe1d5-9b79-4ae3-d107-07612bbe6f02"
      },
      "source": [
        "import numpy as np\n",
        "import matplotlib.pyplot as plt\n",
        "from matplotlib import rcParamsDefault\n",
        "from datascience import Table\n",
        "import scipy\n",
        "%matplotlib inline"
      ],
      "execution_count": null,
      "outputs": [
        {
          "output_type": "stream",
          "name": "stderr",
          "text": [
            "/usr/local/lib/python3.7/dist-packages/datascience/tables.py:17: MatplotlibDeprecationWarning: The 'warn' parameter of use() is deprecated since Matplotlib 3.1 and will be removed in 3.3.  If any parameter follows 'warn', they should be pass as keyword, not positionally.\n",
            "  matplotlib.use('agg', warn=False)\n",
            "/usr/local/lib/python3.7/dist-packages/datascience/util.py:10: MatplotlibDeprecationWarning: The 'warn' parameter of use() is deprecated since Matplotlib 3.1 and will be removed in 3.3.  If any parameter follows 'warn', they should be pass as keyword, not positionally.\n",
            "  matplotlib.use('agg', warn=False)\n"
          ]
        }
      ]
    },
    {
      "cell_type": "markdown",
      "metadata": {
        "id": "DO3LhZPzs2HE"
      },
      "source": [
        "##Exercise 1: Optimization of the lattice parameters and atomic positions of calcite"
      ]
    },
    {
      "cell_type": "markdown",
      "metadata": {
        "id": "jNdleaQs9Xmk"
      },
      "source": [
        "###Exercise 1A\n",
        "\n",
        "*Converge all structural parameters of calcite with respect to the plane wave cutoff and k-point grid. Compare your final converged result to both experiment and other calculations in the literature (**try to compare with results from DFT calculations that have used the same exchange-correlation functional that you have used**).*"
      ]
    },
    {
      "cell_type": "markdown",
      "source": [
        "We first converge the cutoff energy: considering converging the energy cutoff, an initial value of 20 Ry is first employed with $\\tt celldm(1)=12$ and $\\tt celldm(4)=0.5$, with a fixed k points of 9; considering the k points, an initial value of 2 is employed with a fixed energy cutoff of 70 Ry. With the given initial converging parameters, a ```vc-relax``` calculation was performed to obtain the relaxed ```celldm(1)``` and ```celldm(4)```, and the corresponding atomistic coordinates. Then the optimized cell parameters were put to the new script with an increasing energy cutoff for a new ```vc-relax``` calculation. Following this procedure, the converged energy is 70 Ry, and the converged k point is 6. The corresponding ```celldm(1)``` and ```celldm(4)``` were plotted. The convergence was verified as the output says ```bfgs converged in 1 scf cycles and 0 bfgs steps```. The converged values of $a$ and $c$ were compared with literature values from both experiments and first-principle calculation using the PBE pseudopotential."
      ],
      "metadata": {
        "id": "wAm9_mHG1L-f"
      }
    },
    {
      "cell_type": "code",
      "source": [
        "# ener_Q1_a = np.array([12.1672,12.1839,11.8377,12.1720,12.1594,12.1691])\n",
        "ener_Q1_a = np.array([12.1839,11.8377,12.1720,12.1594,12.1691,12.1817,12.1714,12.1750])\n",
        "ener_Q1_c = np.array([0.6938,0.6845,0.6933,0.6926,0.6927,0.6935,0.6931,0.6935])\n",
        "ener_list = np.array([20,30,40,50,60,70,80,90])\n",
        "a_diff_ener = np.abs([ener_Q1_a[1]-ener_Q1_a[0],ener_Q1_a[2]-ener_Q1_a[1],ener_Q1_a[3]-ener_Q1_a[2],ener_Q1_a[4]-ener_Q1_a[3],\\\n",
        "                      ener_Q1_a[5]-ener_Q1_a[4],ener_Q1_a[6]-ener_Q1_a[5],ener_Q1_a[7]-ener_Q1_a[6]])\n",
        "c_diff_ener = np.abs([ener_Q1_c[1]-ener_Q1_c[0],ener_Q1_c[2]-ener_Q1_c[1],ener_Q1_c[3]-ener_Q1_c[2],ener_Q1_c[4]-ener_Q1_c[3],\\\n",
        "                      ener_Q1_c[5]-ener_Q1_c[4],ener_Q1_c[6]-ener_Q1_c[5],ener_Q1_c[7]-ener_Q1_c[6]])\n",
        "ener_point_diff = np.arange(30,100,10)\n",
        "ener_point = np.arange(20,100,10)"
      ],
      "metadata": {
        "id": "BVCDzMvCW8Op"
      },
      "execution_count": null,
      "outputs": []
    },
    {
      "cell_type": "code",
      "source": [
        "fig, axs = plt.subplots(1, 3, figsize = (20, 5))\n",
        "axs[0].plot(ener_point_diff, a_diff_ener, '-.')\n",
        "axs[0].plot(ener_point_diff, a_diff_ener, 'ro')\n",
        "axs[0].plot(ener_point_diff, c_diff_ener, '-.')\n",
        "axs[0].plot(ener_point_diff, c_diff_ener, 'bo')\n",
        "axs[0].set_xlabel('Energy cutoff [Ry]')\n",
        "axs[0].set_ylabel('cell parameters')\n",
        "# axs[0].set_yscale('log')\n",
        "axs[1].plot(ener_point, ener_Q1_a,'k')\n",
        "axs[1].set_xlabel('Energy cutoff [Ry]')\n",
        "axs[1].set_ylabel('celldm(1) [bohr]')\n",
        "axs[2].plot(ener_point, ener_Q1_c,'k')\n",
        "axs[2].set_xlabel('Energy cutoff [Ry]')\n",
        "axs[2].set_ylabel('celldm(4) [-]')"
      ],
      "metadata": {
        "colab": {
          "base_uri": "https://localhost:8080/",
          "height": 355
        },
        "id": "6fZUDjDA4zbW",
        "outputId": "e878225e-1d8e-4a9a-ee00-a18243d03bab"
      },
      "execution_count": null,
      "outputs": [
        {
          "output_type": "execute_result",
          "data": {
            "text/plain": [
              "Text(0, 0.5, 'celldm(4) [-]')"
            ]
          },
          "metadata": {},
          "execution_count": 4
        },
        {
          "output_type": "display_data",
          "data": {
            "text/plain": [
              "<Figure size 1440x360 with 3 Axes>"
            ],
            "image/png": "[encoded data removed]"
          },
          "metadata": {
            "needs_background": "light"
          }
        }
      ]
    },
    {
      "cell_type": "markdown",
      "source": [
        "From the above figures, one can conclude that at 70 Ry both the cell parameters have a low fluctuation."
      ],
      "metadata": {
        "id": "a59-JR4McnCm"
      }
    },
    {
      "cell_type": "code",
      "source": [
        "k_Q1_a = np.array([12.1620,12.1740,12.1690,12.1669,12.1641,12.1625])\n",
        "k_Q1_c = np.array([0.6923,0.6934,0.6928,0.6926,0.6927,0.6925])\n",
        "k_list = np.array([2,3,4,5,6,7,8,9,10])\n",
        "a_diff_k = np.abs([k_Q1_a[1]-k_Q1_a[0],k_Q1_a[2]-k_Q1_a[1],k_Q1_a[3]-k_Q1_a[2],k_Q1_a[4]-k_Q1_a[3],k_Q1_a[5]-k_Q1_a[4]])\n",
        "c_diff_k = np.abs([k_Q1_c[1]-k_Q1_c[0],k_Q1_c[2]-k_Q1_c[1],k_Q1_c[3]-k_Q1_c[2],k_Q1_c[4]-k_Q1_c[3],k_Q1_c[5]-k_Q1_c[4]])\n",
        "k_point_diff = np.arange(3,8,1)\n",
        "k_point = np.arange(2,8,1)"
      ],
      "metadata": {
        "id": "Bw2Iaolrg3lW"
      },
      "execution_count": null,
      "outputs": []
    },
    {
      "cell_type": "code",
      "source": [
        "fig, axs = plt.subplots(1, 3, figsize = (20, 5))\n",
        "axs[0].plot(k_point_diff, a_diff_k, '-.')\n",
        "axs[0].plot(k_point_diff, a_diff_k, 'ro')\n",
        "axs[0].plot(k_point_diff, c_diff_k, '-.')\n",
        "axs[0].plot(k_point_diff, c_diff_k, 'bo')\n",
        "axs[0].set_xlabel('k point number')\n",
        "axs[0].set_ylabel('cell parameters')\n",
        "axs[1].plot(k_point, k_Q1_a,'k')\n",
        "axs[1].set_xlabel('k point number')\n",
        "axs[1].set_ylabel('celldm(1) [bohr]')\n",
        "axs[2].plot(k_point, k_Q1_c,'k')\n",
        "axs[2].set_xlabel('k point number')\n",
        "axs[2].set_ylabel('celldm(4) [-]')"
      ],
      "metadata": {
        "colab": {
          "base_uri": "https://localhost:8080/",
          "height": 352
        },
        "id": "5F1YsAoJhatd",
        "outputId": "2da6f619-a3f2-4e50-d1c3-a7b3511769f1"
      },
      "execution_count": null,
      "outputs": [
        {
          "output_type": "execute_result",
          "data": {
            "text/plain": [
              "Text(0, 0.5, 'celldm(4) [-]')"
            ]
          },
          "metadata": {},
          "execution_count": 6
        },
        {
          "output_type": "display_data",
          "data": {
            "text/plain": [
              "<Figure size 1440x360 with 3 Axes>"
            ],
            "image/png": "[encoded data removed]"
          },
          "metadata": {
            "needs_background": "light"
          }
        }
      ]
    },
    {
      "cell_type": "markdown",
      "source": [
        "From the above figures, one can conclude that at k points of 6 both the cell parameters also have a relatively low fluctuation."
      ],
      "metadata": {
        "id": "UQ2wY2U9czq7"
      }
    },
    {
      "cell_type": "code",
      "source": [
        "!wget https://hanfengzhai.net/data/MSE5720/cco.6.k.out https://hanfengzhai.net/data/MSE5720/cco.70.ener.out"
      ],
      "metadata": {
        "colab": {
          "base_uri": "https://localhost:8080/"
        },
        "id": "50UipGg7gPbU",
        "outputId": "6b8f0707-6f13-4047-9a6e-6fc43f4bfb25"
      },
      "execution_count": null,
      "outputs": [
        {
          "output_type": "stream",
          "name": "stdout",
          "text": [
            "--2022-05-11 20:42:15--  https://hanfengzhai.net/data/MSE5720/cco.6.k.out\n",
            "Resolving hanfengzhai.net (hanfengzhai.net)... 185.199.110.153\n",
            "Connecting to hanfengzhai.net (hanfengzhai.net)|185.199.110.153|:443... connected.\n",
            "HTTP request sent, awaiting response... 200 OK\n",
            "Length: 145397 (142K) [application/octet-stream]\n",
            "Saving to: ‘cco.6.k.out’\n",
            "\n",
            "cco.6.k.out         100%[===================>] 141.99K  --.-KB/s    in 0.003s  \n",
            "\n",
            "2022-05-11 20:42:15 (51.4 MB/s) - ‘cco.6.k.out’ saved [145397/145397]\n",
            "\n",
            "--2022-05-11 20:42:15--  https://hanfengzhai.net/data/MSE5720/cco.70.ener.out\n",
            "Reusing existing connection to hanfengzhai.net:443.\n",
            "HTTP request sent, awaiting response... 200 OK\n",
            "Length: 568024 (555K) [application/octet-stream]\n",
            "Saving to: ‘cco.70.ener.out’\n",
            "\n",
            "cco.70.ener.out     100%[===================>] 554.71K  --.-KB/s    in 0.004s  \n",
            "\n",
            "2022-05-11 20:42:16 (153 MB/s) - ‘cco.70.ener.out’ saved [568024/568024]\n",
            "\n",
            "FINISHED --2022-05-11 20:42:16--\n",
            "Total wall clock time: 0.3s\n",
            "Downloaded: 2 files, 697K in 0.006s (109 MB/s)\n"
          ]
        }
      ]
    },
    {
      "cell_type": "markdown",
      "source": [
        "To show that 70 Ry and k points of 6 are indeed the converged parameters, verification are conducted based on the output files."
      ],
      "metadata": {
        "id": "raz31Ga8c8j8"
      }
    },
    {
      "cell_type": "code",
      "source": [
        "!awk '/bfgs converged/' cco.6.k.out cco.70.ener.out"
      ],
      "metadata": {
        "colab": {
          "base_uri": "https://localhost:8080/"
        },
        "id": "n5XeqmQLgfXE",
        "outputId": "b1779edb-0824-4a67-f24c-0222878a04e1"
      },
      "execution_count": null,
      "outputs": [
        {
          "output_type": "stream",
          "name": "stdout",
          "text": [
            "     bfgs converged in   1 scf cycles and   0 bfgs steps\n",
            "     bfgs converged in   1 scf cycles and   0 bfgs steps\n"
          ]
        }
      ]
    },
    {
      "cell_type": "markdown",
      "source": [
        "Comparing with literature values from both experiments [2] and PBE DFT computation [5], one can conclude that the optimized values have a good accuracy, with relative errors of 0.5277% & 1.7240%, and 0.1486% & 0.8890%, for experiments and DFT computation for $a$ and $c$, respectively."
      ],
      "metadata": {
        "id": "Zt5yedPddLdm"
      }
    },
    {
      "cell_type": "code",
      "source": [
        "constants = ['a [Å]','c [Å]']\n",
        "# print(modes)\n",
        "Calculated = [5.04649, 17.24727]\n",
        "ref_val1 = [5.020, 16.955]\n",
        "ref_val2 = [5.039, 17.402]\n",
        "tab_kpoint = Table().with_columns(['Lattice constants', constants,'Calculated', \\\n",
        "                                   Calculated,'Markgraf & Reeder [2]', ref_val1,'Ulian & Valdrè [5]', ref_val2])\n",
        "tab_kpoint"
      ],
      "metadata": {
        "colab": {
          "base_uri": "https://localhost:8080/",
          "height": 112
        },
        "id": "EGpKwWWklQ7d",
        "outputId": "507aef9f-52fe-46b6-80b2-44ebfe57e42c"
      },
      "execution_count": null,
      "outputs": [
        {
          "output_type": "execute_result",
          "data": {
            "text/plain": [
              "Lattice constants | Calculated | Markgraf & Reeder [2] | Ulian & Valdrè [5]\n",
              "a [Å]             | 5.04649    | 5.02                  | 5.039\n",
              "c [Å]             | 17.2473    | 16.955                | 17.402"
            ],
            "text/html": [
              "<table border=\"1\" class=\"dataframe\">\n",
              "    <thead>\n",
              "        <tr>\n",
              "            <th>Lattice constants</th> <th>Calculated</th> <th>Markgraf & Reeder [2]</th> <th>Ulian & Valdrè [5]</th>\n",
              "        </tr>\n",
              "    </thead>\n",
              "    <tbody>\n",
              "        <tr>\n",
              "            <td>a [Å]            </td> <td>5.04649   </td> <td>5.02                 </td> <td>5.039             </td>\n",
              "        </tr>\n",
              "        <tr>\n",
              "            <td>c [Å]            </td> <td>17.2473   </td> <td>16.955               </td> <td>17.402            </td>\n",
              "        </tr>\n",
              "    </tbody>\n",
              "</table>"
            ]
          },
          "metadata": {},
          "execution_count": 9
        }
      ]
    },
    {
      "cell_type": "markdown",
      "source": [
        "###Exercise 1B \n",
        "*Use VESTA to visualize the structure of calcite and include an image in your report. A well-presented crystal structure makes the main structural features (important bonds, coordination environments) clear.*\n",
        "\n",
        "The $\\tt.cif$ file was generated with the help of Sabrina and Prof. Benedek, from [FINDSYM](https://iso.byu.edu/iso/findsym.php), using the data generated from Quantum ESPRESSO. \n",
        "\n",
        "\n",
        "<img src=\"https://hanfengzhai.net/data/MSE5720/CCO_newest.png\" alt=\" \" width=\"500\"/>"
      ],
      "metadata": {
        "id": "8cA-SoFZA9ZI"
      }
    },
    {
      "cell_type": "markdown",
      "source": [
        "##Exercise 2: Calculation of zone-center vibrational modes of calcite"
      ],
      "metadata": {
        "id": "BZmddOWQBIMb"
      }
    },
    {
      "cell_type": "markdown",
      "source": [
        "###Exercise 2A\n",
        "*Calculate the zone-center vibrational modes for your fully converged and relaxed calcite structure from 1A above, with LO-TO splitting taken into account; perform one calculation with a slightly higher plane wave cutoff and denser k-point grid to ensure that the frequencies are converged.*"
      ],
      "metadata": {
        "id": "vA9G6G5xBS1b"
      }
    },
    {
      "cell_type": "markdown",
      "source": [
        "The zone-center vibrational modes were calculated from the general calculation of lattice dynamics. A $\\tt scf$ calculation is performed first, following a phonon calculation. From the output file of the postprocessing and taking the hint from the homework instructions, the modes were identified as 22, 23, and 27, respectively. The values compared with experimental results are listed in the following table. From the compared results, one conclude that the relative errors $\\nu_2$, $\\nu_3$ and $\\nu_4$ compared with experimental values are 0.4742%, 0.2183%, and 0.0043%, respectively."
      ],
      "metadata": {
        "id": "e_VHVIVZlWNf"
      }
    },
    {
      "cell_type": "code",
      "source": [
        "modes = [22,23,27]\n",
        "nomina = ['ν2','ν3','ν4']\n",
        "frequency = np.array([686.52, 830.53, 1379.56])\n",
        "frequency = np.transpose(frequency)\n",
        "ref_freq = [683.27954,828.72124,1379.50005]\n",
        "intensity = [0.318, 2.769, 69.3211]\n",
        "intensity = np.transpose(intensity)\n",
        "tab_kpoint = Table().with_columns(['',nomina,'Modes', modes,'Intensity', intensity,'Computed Frequency', frequency,'Jiang et al. [6]',ref_freq])\n",
        "tab_kpoint"
      ],
      "metadata": {
        "colab": {
          "base_uri": "https://localhost:8080/",
          "height": 143
        },
        "id": "bzm5rtYGiINv",
        "outputId": "67f153cf-3f18-4fdb-854f-057340ab1e32"
      },
      "execution_count": null,
      "outputs": [
        {
          "output_type": "execute_result",
          "data": {
            "text/plain": [
              "     | Modes | Intensity | Computed Frequency | Jiang et al. [6]\n",
              "ν2   | 22    | 0.318     | 686.52             | 683.28\n",
              "ν3   | 23    | 2.769     | 830.53             | 828.721\n",
              "ν4   | 27    | 69.3211   | 1379.56            | 1379.5"
            ],
            "text/html": [
              "<table border=\"1\" class=\"dataframe\">\n",
              "    <thead>\n",
              "        <tr>\n",
              "            <th></th> <th>Modes</th> <th>Intensity</th> <th>Computed Frequency</th> <th>Jiang et al. [6]</th>\n",
              "        </tr>\n",
              "    </thead>\n",
              "    <tbody>\n",
              "        <tr>\n",
              "            <td>ν2  </td> <td>22   </td> <td>0.318    </td> <td>686.52            </td> <td>683.28          </td>\n",
              "        </tr>\n",
              "        <tr>\n",
              "            <td>ν3  </td> <td>23   </td> <td>2.769    </td> <td>830.53            </td> <td>828.721         </td>\n",
              "        </tr>\n",
              "        <tr>\n",
              "            <td>ν4  </td> <td>27   </td> <td>69.3211  </td> <td>1379.56           </td> <td>1379.5          </td>\n",
              "        </tr>\n",
              "    </tbody>\n",
              "</table>"
            ]
          },
          "metadata": {},
          "execution_count": 10
        }
      ]
    },
    {
      "cell_type": "markdown",
      "source": [
        "##Exercise 3: Generation of disordered structures\n"
      ],
      "metadata": {
        "id": "0ZR96FMoBcsz"
      }
    },
    {
      "cell_type": "markdown",
      "source": [
        "###Exercise 3A\n",
        "*Using your fully relaxed structure from above, generate a series of 5 structures with different rhombohedral angles. Select your angles randomly from a Gaussian distribution having a mean of your fully relaxed angle and a standard deviation of 5$^\\rm o$. Modify the lattice parameter to keep the volume constant.*"
      ],
      "metadata": {
        "id": "2V12kW-WBjhW"
      }
    },
    {
      "cell_type": "markdown",
      "source": [
        "In this problem, I generate the five disordered structures using [Random.org](https://www.random.org/gaussian-distributions/), where the five generated structures have the angles in degrees of:\n",
        "\n",
        "$$\n",
        "\\tt \n",
        "5.2468196310e+1\\quad\\quad 5.0286408940e+1 \\quad\\quad 4.8153928810e+1\\quad\\quad 4.9138106410e+1\\quad\\quad 5.0112695360e+1\n",
        "$$\n",
        "\n",
        "Convert those disordered angles into $\\tt rad$ and compute the corresponding ```celldm(1)``` and ```celldm(4)```, based on the given equation \n",
        "\n",
        "$$\n",
        "V = a^3 (1 - \\cos\\gamma ) \\times \\sqrt{(1+2\\cos\\gamma)} \n",
        "$$\n",
        "\n",
        "The five correponding cell parameters are listed in the following table:\n",
        "\n"
      ],
      "metadata": {
        "id": "q5WTW9sJNLJn"
      }
    },
    {
      "cell_type": "code",
      "source": [
        "para = ['celldm(1)','celldm(4)']\n",
        "val1 = [11.3568, 0.6092]\n",
        "val2 = [11.3568, 0.6390]\n",
        "val3 = [11.8795, 0.6671]\n",
        "val4 = [11.7517, 0.6542]\n",
        "val5 = [11.6303, 0.6413]\n",
        "intensity = np.transpose(intensity)\n",
        "tab_kpoint = Table().with_columns(['Cell parameters', para, 'Structure 1', val1, 'Structure 2', val2, \\\n",
        "                                   'Structure 3', val3, 'Structure 4',val4, 'Structure 5',val5])\n",
        "tab_kpoint"
      ],
      "metadata": {
        "colab": {
          "base_uri": "https://localhost:8080/",
          "height": 112
        },
        "id": "ZPCRYpCe9agb",
        "outputId": "8fe5d0cb-5f0f-411b-d812-aadbad98a290"
      },
      "execution_count": null,
      "outputs": [
        {
          "output_type": "execute_result",
          "data": {
            "text/plain": [
              "Cell parameters | Structure 1 | Structure 2 | Structure 3 | Structure 4 | Structure 5\n",
              "celldm(1)       | 11.3568     | 11.3568     | 11.8795     | 11.7517     | 11.6303\n",
              "celldm(4)       | 0.6092      | 0.639       | 0.6671      | 0.6542      | 0.6413"
            ],
            "text/html": [
              "<table border=\"1\" class=\"dataframe\">\n",
              "    <thead>\n",
              "        <tr>\n",
              "            <th>Cell parameters</th> <th>Structure 1</th> <th>Structure 2</th> <th>Structure 3</th> <th>Structure 4</th> <th>Structure 5</th>\n",
              "        </tr>\n",
              "    </thead>\n",
              "    <tbody>\n",
              "        <tr>\n",
              "            <td>celldm(1)      </td> <td>11.3568    </td> <td>11.3568    </td> <td>11.8795    </td> <td>11.7517    </td> <td>11.6303    </td>\n",
              "        </tr>\n",
              "        <tr>\n",
              "            <td>celldm(4)      </td> <td>0.6092     </td> <td>0.639      </td> <td>0.6671     </td> <td>0.6542     </td> <td>0.6413     </td>\n",
              "        </tr>\n",
              "    </tbody>\n",
              "</table>"
            ]
          },
          "metadata": {},
          "execution_count": 11
        }
      ]
    },
    {
      "cell_type": "markdown",
      "source": [
        "###Exercise 3B\n",
        "*Calculate the frequencies of the phonons at the zone center for your distorted structures using the procedure described above.*\n",
        "\n",
        "The values of the five different calculated frequencies and intensities correpsonding to their modes are listed in the following table."
      ],
      "metadata": {
        "id": "4Rt_lppLBvsV"
      }
    },
    {
      "cell_type": "code",
      "source": [
        "modes = [22,23,27]\n",
        "modes = np.transpose(modes)\n",
        "# print(modes)\n",
        "frequency1 = np.array([675.63,823.12,1347.07])\n",
        "frequency2 = np.array([693.51,824.08,1389.95])\n",
        "frequency3 = np.array([682.64,828.2,1365.34])\n",
        "frequency4 = np.array([681.04,826.8,1361.44])\n",
        "frequency5 = np.array([679.48,825.55,1357.46])\n",
        "intensity1 = [0.1656,2.3151,71.5828]\n",
        "intensity2 = [0.3875,2.9795,71.427]\n",
        "intensity3 = [0.25,2.6683,70.0238]\n",
        "intensity4 = [0.2278,2.6044,70.4025]\n",
        "intensity5 = [0.208,2.5319,70.7662]\n",
        "tab_q3b = Table().with_columns(['Modes', modes,'Frequency (I)', frequency1,'Intensity (I)', intensity1,\\\n",
        "                                   'Frequency (II)', frequency2,'Intensity (II)', intensity2,\\\n",
        "                                   'Frequency (III)', frequency3,'Intensity (III)', intensity3,\\\n",
        "                                   'Frequency (IV)', frequency4,'Intensity (IV)', intensity4,\\\n",
        "                                   'Frequency (V)', frequency5,'Intensity (V)', intensity5])\n",
        "tab_q3b"
      ],
      "metadata": {
        "colab": {
          "base_uri": "https://localhost:8080/",
          "height": 161
        },
        "id": "thPu7O6L-q9s",
        "outputId": "28a246df-020c-477a-fd6a-1b31e169ae9c"
      },
      "execution_count": null,
      "outputs": [
        {
          "output_type": "execute_result",
          "data": {
            "text/plain": [
              "Modes | Frequency (I) | Intensity (I) | Frequency (II) | Intensity (II) | Frequency (III) | Intensity (III) | Frequency (IV) | Intensity (IV) | Frequency (V) | Intensity (V)\n",
              "22    | 675.63        | 0.1656        | 693.51         | 0.3875         | 682.64          | 0.25            | 681.04         | 0.2278         | 679.48        | 0.208\n",
              "23    | 823.12        | 2.3151        | 824.08         | 2.9795         | 828.2           | 2.6683          | 826.8          | 2.6044         | 825.55        | 2.5319\n",
              "27    | 1347.07       | 71.5828       | 1389.95        | 71.427         | 1365.34         | 70.0238         | 1361.44        | 70.4025        | 1357.46       | 70.7662"
            ],
            "text/html": [
              "<table border=\"1\" class=\"dataframe\">\n",
              "    <thead>\n",
              "        <tr>\n",
              "            <th>Modes</th> <th>Frequency (I)</th> <th>Intensity (I)</th> <th>Frequency (II)</th> <th>Intensity (II)</th> <th>Frequency (III)</th> <th>Intensity (III)</th> <th>Frequency (IV)</th> <th>Intensity (IV)</th> <th>Frequency (V)</th> <th>Intensity (V)</th>\n",
              "        </tr>\n",
              "    </thead>\n",
              "    <tbody>\n",
              "        <tr>\n",
              "            <td>22   </td> <td>675.63       </td> <td>0.1656       </td> <td>693.51        </td> <td>0.3875        </td> <td>682.64         </td> <td>0.25           </td> <td>681.04        </td> <td>0.2278        </td> <td>679.48       </td> <td>0.208        </td>\n",
              "        </tr>\n",
              "        <tr>\n",
              "            <td>23   </td> <td>823.12       </td> <td>2.3151       </td> <td>824.08        </td> <td>2.9795        </td> <td>828.2          </td> <td>2.6683         </td> <td>826.8         </td> <td>2.6044        </td> <td>825.55       </td> <td>2.5319       </td>\n",
              "        </tr>\n",
              "        <tr>\n",
              "            <td>27   </td> <td>1347.07      </td> <td>71.5828      </td> <td>1389.95       </td> <td>71.427        </td> <td>1365.34        </td> <td>70.0238        </td> <td>1361.44       </td> <td>70.4025       </td> <td>1357.46      </td> <td>70.7662      </td>\n",
              "        </tr>\n",
              "    </tbody>\n",
              "</table>"
            ]
          },
          "metadata": {},
          "execution_count": 12
        }
      ]
    },
    {
      "cell_type": "markdown",
      "source": [
        "###Exercise 3C\n",
        "*Using your own data as well as your classmates’, plot the frequencies of the above mentioned modes (involving the $\\rm CO_3$ units) as a function of the rhombohedral angle $\\gamma$.*"
      ],
      "metadata": {
        "id": "SG4NEggLCNrX"
      }
    },
    {
      "cell_type": "markdown",
      "source": [
        "<img src=\"https://hanfengzhai.net/data/MSE5720/plotq3c_hw4.png\" alt=\" \" height=\"250\"/>"
      ],
      "metadata": {
        "id": "e2_ceGyQhfx9"
      }
    },
    {
      "cell_type": "markdown",
      "source": [
        "From the plotted figure, one can observe that the data is distributed in a cross-shaped layout, with larger angles of disordered structures having more sparsely distributed points."
      ],
      "metadata": {
        "id": "PiQG9WOAFnkz"
      }
    },
    {
      "cell_type": "markdown",
      "source": [
        "##Exercise 4: Comparison of mode intensities between distorted structures"
      ],
      "metadata": {
        "id": "uJrng2sWCdDW"
      }
    },
    {
      "cell_type": "markdown",
      "source": [
        "###Exercise 4A\n",
        "*Use the python script provided to obtain the intensity of the calculated phonon modes for all disordered structures and your fully relaxed perfectly ordered structure. This script calculates the oscillator strength for each mode, which depends on the Born effective charges and phonon eigenvectors. Calculate the ratio of peak intensities for $\\nu_2/\\nu_3$ and $\\nu_4/\\nu_3$. You can use arbitrary scaling.*\n",
        "\n",
        "By running the provided python script for postprocessing the results generated from the phonon calculation, one can compute the intensities corresponding to different frequencies based on ```diel_output.txt```. By plot the curves one can obtain the values of $\\nu_2 / \\nu_3$ and $\\nu_4/\\nu_3$ as follows:\n",
        "\n",
        "<img src=\"https://hanfengzhai.net/data/MSE5720/hw4q4_long.png\" alt=\" \" width=\"500\"/>"
      ],
      "metadata": {
        "id": "cqlnckcwCiek"
      }
    },
    {
      "cell_type": "code",
      "source": [
        "nomina = ['ν2','ν3','ν4']\n",
        "freq1 = [823.084,1347.05,674.983]\n",
        "freq2 = [824.037,1389.96,691.874]\n",
        "freq3 = [828.077,1365.37,681.637]\n",
        "freq4 = [826.815,1361.48,680.007]\n",
        "freq5 = [825.517,1357.54,678.559]\n",
        "freq0 = [830.714,1379.73,685.179]\n",
        "tab_q4a = Table().with_columns(['',nomina,'Structure I', freq1,'Structure II', freq2,\\\n",
        "                                   'Structure III',freq3,'Structure IV', freq4,'Structure V', freq5])\n",
        "tab_q4a"
      ],
      "metadata": {
        "colab": {
          "base_uri": "https://localhost:8080/",
          "height": 143
        },
        "id": "UTSy2r-sOZM-",
        "outputId": "7f4a9624-0099-4733-b684-5f49c7d133ee"
      },
      "execution_count": null,
      "outputs": [
        {
          "output_type": "execute_result",
          "data": {
            "text/plain": [
              "     | Structure I | Structure II | Structure III | Structure IV | Structure V\n",
              "ν2   | 823.084     | 824.037      | 828.077       | 826.815      | 825.517\n",
              "ν3   | 1347.05     | 1389.96      | 1365.37       | 1361.48      | 1357.54\n",
              "ν4   | 674.983     | 691.874      | 681.637       | 680.007      | 678.559"
            ],
            "text/html": [
              "<table border=\"1\" class=\"dataframe\">\n",
              "    <thead>\n",
              "        <tr>\n",
              "            <th></th> <th>Structure I</th> <th>Structure II</th> <th>Structure III</th> <th>Structure IV</th> <th>Structure V</th>\n",
              "        </tr>\n",
              "    </thead>\n",
              "    <tbody>\n",
              "        <tr>\n",
              "            <td>ν2  </td> <td>823.084    </td> <td>824.037     </td> <td>828.077      </td> <td>826.815     </td> <td>825.517    </td>\n",
              "        </tr>\n",
              "        <tr>\n",
              "            <td>ν3  </td> <td>1347.05    </td> <td>1389.96     </td> <td>1365.37      </td> <td>1361.48     </td> <td>1357.54    </td>\n",
              "        </tr>\n",
              "        <tr>\n",
              "            <td>ν4  </td> <td>674.983    </td> <td>691.874     </td> <td>681.637      </td> <td>680.007     </td> <td>678.559    </td>\n",
              "        </tr>\n",
              "    </tbody>\n",
              "</table>"
            ]
          },
          "metadata": {},
          "execution_count": 13
        }
      ]
    },
    {
      "cell_type": "markdown",
      "source": [
        "Based on the computed values, we can hence obtain the values for $\\nu_2/\\nu_3$ and $\\nu_4/\\nu_3$:\n"
      ],
      "metadata": {
        "id": "3gi2gVDkThI5"
      }
    },
    {
      "cell_type": "code",
      "source": [
        "nomina = ['ν2/ν3','ν4/ν3']\n",
        "freq1_new = [823.084/1347.05,674.983/1347.05]\n",
        "freq2_new = [824.037/1389.96,691.874/1389.96]\n",
        "freq3_new = [828.077/1365.37,681.637/1365.37]\n",
        "freq4_new = [826.815/1361.48,680.007/1361.48]\n",
        "freq5_new = [825.517/1357.54,678.559/1357.54]\n",
        "freq0_new = [830.714/1379.73,685.179/1379.73]\n",
        "tab_q4a_2 = Table().with_columns(['',nomina,'Relaxed Structure', freq0_new,'Structure I', freq1_new,'Structure II', freq2_new,\\\n",
        "                                   'Structure III',freq3_new,'Structure IV', freq4_new,'Structure V', freq5_new])\n",
        "tab_q4a_2"
      ],
      "metadata": {
        "colab": {
          "base_uri": "https://localhost:8080/",
          "height": 112
        },
        "id": "6GfrGczATuAV",
        "outputId": "47cde3fb-c217-41ae-b376-ada989f57b64"
      },
      "execution_count": null,
      "outputs": [
        {
          "output_type": "execute_result",
          "data": {
            "text/plain": [
              "      | Relaxed Structure | Structure I | Structure II | Structure III | Structure IV | Structure V\n",
              "ν2/ν3 | 0.602084          | 0.611027    | 0.592849     | 0.606485      | 0.607291     | 0.608098\n",
              "ν4/ν3 | 0.496604          | 0.501082    | 0.497765     | 0.499232      | 0.499462     | 0.499845"
            ],
            "text/html": [
              "<table border=\"1\" class=\"dataframe\">\n",
              "    <thead>\n",
              "        <tr>\n",
              "            <th></th> <th>Relaxed Structure</th> <th>Structure I</th> <th>Structure II</th> <th>Structure III</th> <th>Structure IV</th> <th>Structure V</th>\n",
              "        </tr>\n",
              "    </thead>\n",
              "    <tbody>\n",
              "        <tr>\n",
              "            <td>ν2/ν3</td> <td>0.602084         </td> <td>0.611027   </td> <td>0.592849    </td> <td>0.606485     </td> <td>0.607291    </td> <td>0.608098   </td>\n",
              "        </tr>\n",
              "        <tr>\n",
              "            <td>ν4/ν3</td> <td>0.496604         </td> <td>0.501082   </td> <td>0.497765    </td> <td>0.499232     </td> <td>0.499462    </td> <td>0.499845   </td>\n",
              "        </tr>\n",
              "    </tbody>\n",
              "</table>"
            ]
          },
          "metadata": {},
          "execution_count": 26
        }
      ]
    },
    {
      "cell_type": "markdown",
      "source": [
        "###Exercise 4B\n",
        "*Plot the ratio $\\nu_2/\\nu_3$ (y-axis) against the ratio $\\nu_4/\\nu_3$. What can you say about the relationship between these ratios and the degree of disorder in the crystal?*"
      ],
      "metadata": {
        "id": "ocr8FcWUC_cw"
      }
    },
    {
      "cell_type": "code",
      "source": [
        "y_axis = [freq0_new[0],freq1_new[0],freq2_new[0],freq3_new[0],freq4_new[0],freq5_new[0]]\n",
        "x_axis = [freq0_new[1],freq1_new[1],freq2_new[1],freq3_new[1],freq4_new[1],freq5_new[1]]\n",
        "plt.scatter(x_axis,y_axis)\n",
        "plt.xlabel('$ν_4/ν_3$')\n",
        "plt.ylabel('$ν_2/ν_3$')"
      ],
      "metadata": {
        "colab": {
          "base_uri": "https://localhost:8080/",
          "height": 301
        },
        "id": "2rYSzx7vY1QR",
        "outputId": "1227c204-7d6f-4a96-e32a-5123eeaa3960"
      },
      "execution_count": null,
      "outputs": [
        {
          "output_type": "execute_result",
          "data": {
            "text/plain": [
              "Text(0, 0.5, '$ν_2/ν_3$')"
            ]
          },
          "metadata": {},
          "execution_count": 32
        },
        {
          "output_type": "display_data",
          "data": {
            "text/plain": [
              "<Figure size 432x288 with 1 Axes>"
            ],
            "image/png": "[encoded data removed]"
          },
          "metadata": {
            "needs_background": "light"
          }
        }
      ]
    },
    {
      "cell_type": "markdown",
      "source": [
        "Based on the given instructions, and from the computed $\\nu_2$, $\\nu_3$, and $\\nu_4$ from exercise 3, we can hence obtain the values to plot as in the above figure.\n",
        "\n",
        "From plotting the disordered structures from the Gaussian distribution, we can conclude that with an increasing $\\nu_4/\\nu_3$, there is an increasing $\\nu_2/\\nu_3$. In other words, $\\nu_4/\\nu_3$ and $\\nu_2/\\nu_3$ are positively correlated. There is a slight \"error\" for the value of structure 2, as the computed point does not follow the general linear trend. However, the general increasing trend can still be concluded."
      ],
      "metadata": {
        "id": "uzarBEUeYxqG"
      }
    },
    {
      "cell_type": "markdown",
      "source": [
        "##Summary\n",
        "\n",
        "In this homework, I combined different techniques learnt previously to compute various properties of calcite shown above. Combining the actual theoretical knowledge learnt from lectures with actual applications in Quantum ESPRESSO really helps me possess the details of conducting first-principle calculations of materials. However, I still encountered the following difficulties while doing the homework: \n",
        "\n",
        "(1) **Transformation of the coordinates from the primitive cell to the conventional cell.** After the relaxation generated from the ESPRESSO output file, the bfgs optimized structures were expressed in the primitive cell description. Most literature values of the cell parameters were expressed in the conventional cell coordinates. Eventually, with the help of peers (Cheng Wang) I learned that one can obtain the conventional cell parameters from $\\tt VESTA$. \n",
        "\n",
        "\n",
        "(2) **I was confused by the concept of generating disordered structures with certain degrees of variations.** Initially, I got stuck at randomly selecting angles from a Gaussian distribution having a mean of your fully relaxed angle and a standard deviation of 5$\\sf\\rm^o$. After Sabrina explained using plots of the normal distribution to illustrate how the generated points (different angles) lie in the distribution range, I then understand the meaning and purpose of this exercise.\n",
        "\n",
        "\n",
        "(3) **I had a hard time understanding the physical meaning of frequency, mode and intensities.** While doing exercises 2 & 3 for showing the values of $\\nu_2$, $\\nu_3$, & $\\nu_4$ and plotting the data from the class, the physical meaning of frequencies, modes, and intensities was unclear to me. After going back to the course's notes and googling I gained a very general personal understanding of the three concepts: for each mode of vibration, the material displays a specific vibration frequency with a specific intensity. \n",
        "\n",
        "Overall, this homework combined many of the previously learned knowledge and in-class theory to help me better understand convergence, structural optimization, vibrational properties, etc. Specifically, the emphasis on vibrational properties in the latter half was challenging for me; and provided me with a decent understanding of the relations between structural disorders and the corresponding vibrational properties."
      ],
      "metadata": {
        "id": "oeyFiz7hpww4"
      }
    },
    {
      "cell_type": "markdown",
      "source": [
        "##References\n",
        "\n",
        "[1] Andersson, M., Dideriksen, K., Sakuma, H. et al. Modelling how incorporation of divalent cations affects calcite wettability–implications for biomineralisation and oil recovery. Sci Rep 6, 28854 (2016). [10.1038/srep28854](https://doi.org/10.1038/srep28854).\n",
        "\n",
        "[2] S. A. Markgraf, Richard J. Reeder; High-temperature structure refinements of calcite and magnesite. American Mineralogist 1985;; 70 (5-6): 590–600. [0003-004X/85/0506-0590$02.00](http://www.minsocam.org/ammin/AM70/AM70_590.pdf)\n",
        "\n",
        "[3] Leo Merrill and William A. Bassett , \"Miniature diamond anvil pressure cell for single crystal x‐ray diffraction studies\", Review of Scientific Instruments 45, 290-294 (1974) [10.1063/1.1686607](https://doi.org/10.1063/1.1686607).\n",
        "\n",
        "[4] Joseph R. Smyth, Thomas J. Ahrens. The crystal structure of calcite III. Geophysical Research Letters, Vol. 24, No. 13, P. 1595-1598, [10.1029/97GL01603](https://agupubs.onlinelibrary.wiley.com/doi/abs/10.1029/97GL01603)\n",
        "\n",
        "[5] Ulian, G., Valdrè, G. Study of the variation of the optical properties of calcite with applied stress, useful for specific rock and material mechanics. Sci Rep 12, 299 (2022). [10.1038/s41598-021-04471-6](https://doi.org/10.1038/s41598-021-04471-6)\n",
        "\n",
        "[6] Cheng-Lu Jiang, Wei Zeng, Fu-Sheng Liu, Bin Tang, Qi-Jun Liu. First-principles analysis of vibrational modes of calcite, magnesite and dolomite. Journal of Physics and Chemistry of Solids. Vol. 131, Aug. 2019, P 1-9. [10.1016/j.jpcs.2019.03.011](https://doi.org/10.1016/j.jpcs.2019.03.011)"
      ],
      "metadata": {
        "id": "JPppSJA-gfd6"
      }
    }
  ]
}